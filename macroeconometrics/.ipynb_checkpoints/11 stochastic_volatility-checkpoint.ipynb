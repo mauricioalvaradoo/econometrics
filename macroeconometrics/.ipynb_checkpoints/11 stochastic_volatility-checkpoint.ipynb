{
 "cells": [
  {
   "cell_type": "markdown",
   "id": "a9826cda-e983-42e9-97dc-b8a769862ab1",
   "metadata": {},
   "source": [
    "# PyMC3\n",
    "PyMC3 tiene una sintaxis más fácil de usar y una serie de nuevas funciones y capacidades, como la capacidad de trabajar con modelos jerárquicos y el muestreo de Hamiltonian Monte Carlo (HMC)"
   ]
  },
  {
   "cell_type": "code",
   "execution_count": null,
   "id": "c0b333ff-f538-42c6-8e3b-8cb5fbf8db6d",
   "metadata": {},
   "outputs": [],
   "source": [
    "# py -m pip install --upgrade pip\n",
    "# py -m pip install pymc3 --no-warn-script-location\n",
    "# py -m pip install econdata\n",
    "# conda install -c conda-forge python-graphviz"
   ]
  },
  {
   "cell_type": "code",
   "execution_count": null,
   "id": "e792e378-e4c2-4f40-a15b-1179e01ddb8f",
   "metadata": {},
   "outputs": [],
   "source": [
    "# Pasos:\n",
    "# 1. Instalar un compilador de Fortran: https://www.youtube.com/watch?v=RrsoM6wVEWE\n",
    "# 2. Instalar el paquete m2w64-toolchain: conda install m2w64-toolchain"
   ]
  },
  {
   "cell_type": "code",
   "execution_count": null,
   "id": "4880875c-cad7-4afb-a0ed-35b9e2ab98cc",
   "metadata": {},
   "outputs": [],
   "source": [
    "# conda install numpy scipy mkl\n",
    "# conda install theano pygpu\n",
    "# conda install pymc3"
   ]
  },
  {
   "cell_type": "code",
   "execution_count": null,
   "id": "3b35d4ed-00af-46df-b4f2-94b497f05cd5",
   "metadata": {},
   "outputs": [],
   "source": [
    "conda install theano pygpu"
   ]
  },
  {
   "cell_type": "code",
   "execution_count": null,
   "id": "14f35408-7ef6-424a-89fd-c01a7e13c0c1",
   "metadata": {},
   "outputs": [],
   "source": [
    "conda install pymc3"
   ]
  },
  {
   "cell_type": "code",
   "execution_count": null,
   "id": "52a785e1-b47e-4330-a89a-ce0ff3bf9843",
   "metadata": {},
   "outputs": [],
   "source": [
    "import pandas as pd\n",
    "from econdata import YFinance\n",
    "import numpy as np\n",
    "import matplotlib.pyplot as plt\n",
    "# Bayesiano\n",
    "import pymc3\n",
    "import arviz as az\n",
    "\n",
    "seed = np.random.default_rng(0)\n",
    "az.style.use('arviz-darkgrid')"
   ]
  },
  {
   "cell_type": "code",
   "execution_count": null,
   "id": "e343117a-f9ef-4bd2-8213-2f3da2f1878c",
   "metadata": {},
   "outputs": [],
   "source": [
    "# Retornos S&P 500\n",
    "df = YFinance.get_data({'^GSPC': 'S&P 500'}, fechaini='2008-01-01', fechafin='2011-04-29')\n",
    "r  = np.log(df) - np.log(df.shift(1))\n",
    "r  = r.dropna()\n",
    "r"
   ]
  },
  {
   "cell_type": "code",
   "execution_count": null,
   "id": "29d9a5af-a978-45b7-ad81-34fe4be5f650",
   "metadata": {},
   "outputs": [],
   "source": [
    "# Figura\n",
    "fig, ax = plt.subplots(figsize=(12, 4))\n",
    "r.plot(ax=ax, color='black')\n",
    "ax.set(xlabel='time', ylabel='returns')\n",
    "plt.show()"
   ]
  },
  {
   "cell_type": "code",
   "execution_count": null,
   "id": "19806c80-7a85-4250-8aa3-b0553177855c",
   "metadata": {},
   "outputs": [],
   "source": [
    "# Modelo SV\n",
    "'''\n",
    "Similar to the one described in the No-U-Turn Sampler paper, Hoffman (2011) p21\n",
    "Retornos diarios (r) con un proceso de log volatilidad latente (s)\n",
    "\n",
    "log(r_i)  -> t(v, 0, exp(-2 s_i))\n",
    "s_i       -> Normal (s_i-1, sig^-2)\n",
    "\n",
    "v         -> Exp(0.1)  -> Grados de libertad\n",
    "sig       -> Exp(10)\n",
    "'''\n",
    "\n",
    "def make_sv_model(df):\n",
    "    with pymc3.Model(coords={'time': df.index.values}) as model:\n",
    "        \n",
    "        # Priors\n",
    "        sig = pymc3.Exponential('sig', 10)\n",
    "        nu  = pymc3.Exponential('nu', 0.1)\n",
    "        \n",
    "        # Modelo\n",
    "        volatility = pymc3.GaussianRandomWalk('volatility', sigma=sig, dims='time')\n",
    "        returns    = pymc3.StudentT(\n",
    "            'returns',\n",
    "            nu  = nu,\n",
    "            lam = np.exp(-2 * volatility),\n",
    "            observed = df,\n",
    "            dims='time'\n",
    "        )\n",
    "        \n",
    "    return model"
   ]
  },
  {
   "cell_type": "code",
   "execution_count": null,
   "id": "e114ac69-7946-4502-9150-78673a5117a9",
   "metadata": {},
   "outputs": [],
   "source": [
    "# Instancia\n",
    "sv_model = make_sv_model(df)\n",
    "pymc3.model_to_graphviz(sv_model)"
   ]
  },
  {
   "cell_type": "code",
   "execution_count": null,
   "id": "77212f32-fa77-4314-b26a-db0439710de1",
   "metadata": {},
   "outputs": [],
   "source": [
    "# Priors\n",
    "with sv_model:\n",
    "    trace = az.from_pymc3( prior = pymc3.sample_prior_predictive(500) )\n",
    "prior_predictive = trace.prior_predictive.stack(pooled_chain=('chain', 'draw'))"
   ]
  },
  {
   "cell_type": "code",
   "execution_count": null,
   "id": "ddd72ab2-c16d-4898-b5d2-d139988b54a1",
   "metadata": {},
   "outputs": [],
   "source": [
    "# Posterior\n",
    "smpl = 2_000\n",
    "burn = 2_000\n",
    "\n",
    "with sv_model:\n",
    "    trace.extend(pymc3.sample( smpl, tune=burn, return_inferencedata=True) )"
   ]
  },
  {
   "cell_type": "code",
   "execution_count": null,
   "id": "a7e5fb80-07c5-4d9c-b27a-ce669e48c99d",
   "metadata": {},
   "outputs": [],
   "source": [
    "posterior = trace.posterior.stack(pooled_chain=('chain', 'draw'))\n",
    "posterior['exp_volatility'] = np.exp(posterior['volatility'])"
   ]
  },
  {
   "cell_type": "code",
   "execution_count": null,
   "id": "4543fc55-566b-414f-81e0-1a3fd8983d52",
   "metadata": {},
   "outputs": [],
   "source": [
    "with sv_model:\n",
    "    trace.extend(az.from_pymc3(posterior_predictive=pymc3.sample_posterior_predictive(trace)))\n",
    "\n",
    "posterior_predictive = trace.posterior_predictive.stack(pooled_chain=('chain', 'draw'))"
   ]
  },
  {
   "cell_type": "code",
   "execution_count": null,
   "id": "68db8ae5-d259-455d-943b-e021e1470b27",
   "metadata": {},
   "outputs": [],
   "source": [
    "# Resultados\n",
    "az.plot_trace(trace, var_names=['sig', 'nu'])"
   ]
  },
  {
   "cell_type": "code",
   "execution_count": null,
   "id": "d686d9f1-1dd1-4295-8b80-83ffcda6ccdc",
   "metadata": {},
   "outputs": [],
   "source": [
    "# SV estimada\n",
    "fig, ax = plt.subplots(figsize=(14, 4))\n",
    "\n",
    "y_vals = posterior['exp_volatility'].isel(pooled_chain=slice(None, None, 5))\n",
    "x_vals = y_vals.time.astype(np.datetime64)\n",
    "\n",
    "plt.plot(x_vals, y_vals, 'k', alpha=0.002)\n",
    "ax.set_xlim(x_vals.min(), x_vals.max())\n",
    "ax.set_ylim(bottom=0)\n",
    "ax.set(title='Estimated volatility over time', xlabel='Date', ylabel='Volatility');"
   ]
  },
  {
   "cell_type": "code",
   "execution_count": null,
   "id": "7ca5d9a5-0a3b-427a-b43c-05f268e492cf",
   "metadata": {},
   "outputs": [],
   "source": [
    "# Referencias:\n",
    "# https://www.pymc.io/projects/docs/en/v3/pymc-examples/examples/case_studies/stochastic_volatility.html\n",
    "# https://pymc3-testing.readthedocs.io/en/rtd-docs/notebooks/stochastic_volatility.html\n",
    "# https://www.pymc-labs.io/blog-posts/01-xpost-tw-stochastic-volatility/"
   ]
  },
  {
   "cell_type": "code",
   "execution_count": null,
   "id": "d2a76b5e-94cc-40ff-98ba-3630cd60415b",
   "metadata": {},
   "outputs": [],
   "source": []
  }
 ],
 "metadata": {
  "kernelspec": {
   "display_name": "Python 3 (ipykernel)",
   "language": "python",
   "name": "python3"
  },
  "language_info": {
   "codemirror_mode": {
    "name": "ipython",
    "version": 3
   },
   "file_extension": ".py",
   "mimetype": "text/x-python",
   "name": "python",
   "nbconvert_exporter": "python",
   "pygments_lexer": "ipython3",
   "version": "3.9.13"
  }
 },
 "nbformat": 4,
 "nbformat_minor": 5
}
