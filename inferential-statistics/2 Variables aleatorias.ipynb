{
 "cells": [
  {
   "cell_type": "markdown",
   "id": "4b024332",
   "metadata": {},
   "source": [
    "# **I. Variables aleatorias**"
   ]
  },
  {
   "cell_type": "code",
   "execution_count": 2,
   "id": "ac2c3f5b",
   "metadata": {},
   "outputs": [],
   "source": [
    "import numpy as np\n",
    "import matplotlib.pyplot as plt\n",
    "from collections import Counter\n",
    "import scipy.stats as stats\n",
    "import seaborn as sns\n",
    "import pandas as np\n",
    "\n",
    "np.random.seed(10)\n",
    "sns.set_style(\"whitegrid\")"
   ]
  },
  {
   "cell_type": "markdown",
   "id": "6b86d0f2",
   "metadata": {},
   "source": [
    "## Teoría\n",
    "\n",
    "Una variable aleatoria es una función cuyo dominio es un espacio muestral y cuyo rango es un conjunto de los números reales. Sea $x$ un valor que se quiere del espacio muestral. Después $x$ tomará los valores del rango y se hará una función de probabilidad.\n",
    "\n",
    "**Variable aleatoria discreta**: El rango es numerable. Cumple 3 axiomas:\n",
    "\n",
    "1) Sea $f(x_i)$ la probabilidad de cada valor de $x$. Esta probabilidad siempre es mayor igual a 0.\n",
    "\n",
    "$$ P(x = x_i)=f(x_i) \\geq 0$$     $$\\forall x \\in R_x$$\n",
    "\n",
    "$R_x$ es el rango de la variable aleatoria X\n",
    "\n",
    "2) La probabilidad de cada valor de la variable aleatoria $x$ es mayor igual a 0 y menor igual a 1.\n",
    "\n",
    "$$ 0 \\leq f(x_i)  \\leq 1 $$   \n",
    "\n",
    "3) Todas las probabilidades de cada valor de la variable aleatoria $x$ suman uno.\n",
    "\n",
    "$$ \\sum f(x_i) = 1 $$ \n",
    "\n",
    "**Variable aleatoria discreta**: El rango está entre un intervalo o es infinito. Es decir, se debe pensar no en la ocurrencia de valores, sino en la ocurrencia de intervalos de valores. Para ello se necesita una función de $f(x)$ que distribuya probabilidades sobre los intervalos contenido en $R_x$.\n",
    "\n",
    "Sea $x$ una v.a continua, una función de densidad de $x$ denotada $f_x(x)$, tal que para todo intervalo $ ]a,b]$ $\\subseteq R_x $ que $x$ pueda tomar, la función de probabilidad de ocurrencia de ese intervalo es:\n",
    "\n",
    "$$ P(a < x \\leq b) = \\int_a^b f_x(x) dx $$ Es decir,  el área debajo de $f_x(x)$ entre a y b \n",
    "\n",
    "Se cumplen las siguientes propiedades:\n",
    "\n",
    "1) La probabilidad de que ocurra un intervalo de valores de x es mayor igual a 0\n",
    "$$f_x(x) \\geq 0$$  $$\\forall x \\in R_x$$\n",
    "\n",
    "2) El área total debajo de $f_x(x)$ sobre $R_x$ es 1 \n",
    "\n",
    "$$\\int_{Rx} f_x(x) dx = 1$$"
   ]
  },
  {
   "cell_type": "markdown",
   "id": "ec65398a",
   "metadata": {},
   "source": [
    "## Ejemplo práctico\n",
    "\n",
    "En estadística inferencial el concepto de variable aleatoria es importante para entender más adelante conceptos como el p-value o intervalos de confianza. Tomando el ejemplo del libro Data Analysis for the Life Sciences de Irizarry y Love (2021), se importarán los datos de una base de ratones proporcionada por Karen Svenson a través de Gary Churchill and Dan Gatti y parcialmente financiada por P50 GM070683, y con ello se explicará lo que significa una variable aleatoria."
   ]
  },
  {
   "cell_type": "code",
   "execution_count": null,
   "id": "3cd9f382",
   "metadata": {},
   "outputs": [],
   "source": [
    "random.seed(1) #Para tener los mismos resultados"
   ]
  },
  {
   "cell_type": "code",
   "execution_count": 7,
   "id": "78ac2f1b",
   "metadata": {},
   "outputs": [],
   "source": [
    "import pandas as pd\n",
    "\n",
    "dir = \"https://raw.githubusercontent.com/genomicsclass/dagdata/master/inst/extdata/\"\n",
    "filename = \"femaleMiceWeights.csv\"\n",
    "url = dir + filename\n",
    "dat = pd.read_csv(url)"
   ]
  },
  {
   "cell_type": "markdown",
   "id": "ef867c04",
   "metadata": {},
   "source": [
    "#### Primera mirada a los datos\n",
    "\n",
    "El estudio trata de determinar si seguir una dieta determinada hace que los ratones pesen más después de varias semanas. Estos datos se produjeron ordenando 24 ratones de The Jackson Lab y asignándoles al azar una dieta normal (chow) o una dieta alta en grasas (hf). Después de varias semanas, los científicos pesaron cada ratón y obtuvieron los siguientes datos. Son 24 ratones que fueron  alimentados con dieta normal o con dieta alta en grasas."
   ]
  },
  {
   "cell_type": "code",
   "execution_count": 8,
   "id": "44feff8c",
   "metadata": {},
   "outputs": [
    {
     "data": {
      "text/html": [
       "<div>\n",
       "<style scoped>\n",
       "    .dataframe tbody tr th:only-of-type {\n",
       "        vertical-align: middle;\n",
       "    }\n",
       "\n",
       "    .dataframe tbody tr th {\n",
       "        vertical-align: top;\n",
       "    }\n",
       "\n",
       "    .dataframe thead th {\n",
       "        text-align: right;\n",
       "    }\n",
       "</style>\n",
       "<table border=\"1\" class=\"dataframe\">\n",
       "  <thead>\n",
       "    <tr style=\"text-align: right;\">\n",
       "      <th></th>\n",
       "      <th>Diet</th>\n",
       "      <th>Bodyweight</th>\n",
       "    </tr>\n",
       "  </thead>\n",
       "  <tbody>\n",
       "    <tr>\n",
       "      <th>0</th>\n",
       "      <td>chow</td>\n",
       "      <td>21.51</td>\n",
       "    </tr>\n",
       "    <tr>\n",
       "      <th>1</th>\n",
       "      <td>chow</td>\n",
       "      <td>28.14</td>\n",
       "    </tr>\n",
       "    <tr>\n",
       "      <th>2</th>\n",
       "      <td>chow</td>\n",
       "      <td>24.04</td>\n",
       "    </tr>\n",
       "    <tr>\n",
       "      <th>3</th>\n",
       "      <td>chow</td>\n",
       "      <td>23.45</td>\n",
       "    </tr>\n",
       "    <tr>\n",
       "      <th>4</th>\n",
       "      <td>chow</td>\n",
       "      <td>23.68</td>\n",
       "    </tr>\n",
       "  </tbody>\n",
       "</table>\n",
       "</div>"
      ],
      "text/plain": [
       "   Diet  Bodyweight\n",
       "0  chow       21.51\n",
       "1  chow       28.14\n",
       "2  chow       24.04\n",
       "3  chow       23.45\n",
       "4  chow       23.68"
      ]
     },
     "execution_count": 8,
     "metadata": {},
     "output_type": "execute_result"
    }
   ],
   "source": [
    "dat.head() #el encabezado solo nos muestra las primeras 6 filas"
   ]
  },
  {
   "cell_type": "markdown",
   "id": "f2a178b3",
   "metadata": {},
   "source": [
    "Recordemos que el espacio muestral es el conjunto de los posibles resultados de un experimento. En este ejemplo, el experimento es elegir 24 ratones y asignarles al azar una dieta normal o una dieta alta en grasas; y luego de unas semanas pesarlos para obtener como dato los pesos. Por lo tanto, el espacio muestral está conformado por todos los posibles resultados de ese experimento que son los pesos de 24 ratones alimentados al azar con con dieta normal o con dieta alta en grasas. La base de datos que descargamos es un subconjunto de este espacio muestral, pues es uno de los posibles resultados de realizar este experimento. \n"
   ]
  },
  {
   "cell_type": "code",
   "execution_count": 23,
   "id": "4a4a7738",
   "metadata": {},
   "outputs": [],
   "source": [
    "control = dat[dat['Diet'] == 'chow']['Bodyweight'].tolist()\n",
    "tratamiento = dat[dat['Diet'] == 'hf']['Bodyweight'].tolist()\n",
    "\n",
    "def mayor(lista):\n",
    "    max = lista[0];\n",
    "    for x in lista:\n",
    "        if x > max:\n",
    "            max = x\n",
    "    return max    \n",
    " \n",
    "def menor(lista):\n",
    "    min = lista[0];\n",
    "    for x in lista:\n",
    "        if x < min:\n",
    "            min = x\n",
    "    return min"
   ]
  },
  {
   "cell_type": "code",
   "execution_count": 25,
   "id": "0af99237",
   "metadata": {},
   "outputs": [
    {
     "name": "stdout",
     "output_type": "stream",
     "text": [
      "28.4\n",
      "19.79\n",
      "34.02\n",
      "20.73\n"
     ]
    }
   ],
   "source": [
    "# Valores máximos y minimos de un cada grupo\n",
    "print(mayor(control))\n",
    "print(menor(control))\n",
    "print(mayor(tratamiento))\n",
    "print(menor(tratamiento))"
   ]
  },
  {
   "cell_type": "markdown",
   "id": "15f4c4b8",
   "metadata": {},
   "source": [
    "Al mirar los datos observamos que los pesos en el grupo de ratones que se alimentaron altamente en grasas (hf) varían desde valores bajos hasta altos, y de igual manera el otro grupo con dieta normal (chow). Es decir, existe una gran variabilidad. Por lo tanto, para describir mejor los datos veamos el promedio de cada grupo. \n",
    "\n",
    "**OJO:** Tal como vimos en la teoría, una variable aleatoria es \"algo\" que quiero dentro del espacio muestral. En este caso, podemos definir a una variable aleatoria como el peso promedio de los ratones en cada grupo del experimento. U otro caso, otra variable aleatoria puede ser la diferencia de los pesos promedio entre los grupos de ratones."
   ]
  },
  {
   "cell_type": "code",
   "execution_count": 30,
   "id": "ca3041a8",
   "metadata": {},
   "outputs": [
    {
     "name": "stdout",
     "output_type": "stream",
     "text": [
      "23.813333333333333\n",
      "26.83416666666667\n"
     ]
    }
   ],
   "source": [
    "# Medias de cada grupo\n",
    "from statistics import mean\n",
    "print(mean(control))\n",
    "print(mean(tratamiento))"
   ]
  },
  {
   "cell_type": "code",
   "execution_count": 31,
   "id": "b8179e76",
   "metadata": {},
   "outputs": [
    {
     "name": "stdout",
     "output_type": "stream",
     "text": [
      "3.0208333333333357\n"
     ]
    }
   ],
   "source": [
    "obsdiff = mean(treatment) - mean(control)\n",
    "print(obsdiff)"
   ]
  },
  {
   "cell_type": "markdown",
   "id": "ed1ebca0",
   "metadata": {},
   "source": [
    "Entonces, los ratones con dieta alta en grasas pesan aproximadamente un 10% más. ¿Esa sería la conclusión? ¿Se puede trasladar estos resultados como un caso general? No, pues, como vimos, este es un posible resultado, pero se puede obtener otra submuestra del espacio muestral, y otros promedios como veremos a continuación."
   ]
  },
  {
   "cell_type": "markdown",
   "id": "886b3ee9",
   "metadata": {},
   "source": [
    "Si repetimos el experimento obtenemos 24 nuevos ratones del Laboratorio Jackson y, tras asignarlos aleatoriamente a cada dieta, obtenemos una media diferente. Cada vez que repetimos este experimento, obtenemos un valor diferente. A este tipo de cantidad la llamamos variable aleatoria. "
   ]
  },
  {
   "cell_type": "markdown",
   "id": "55b4a5b0",
   "metadata": {},
   "source": [
    "Imagine que en realidad tenemos el peso de todas los ratones hembras de control y podemos cargarlos en Python. En Estadística Inferencial, nos referimos a este espacio muestral como población. Estos son todos los ratones de control disponibles de los cuales tomamos muestras de 24. Tenga en cuenta que en la práctica no tenemos acceso a la población. Tenemos un conjunto de datos especial que utilizamos aquí para ilustrar conceptos."
   ]
  },
  {
   "cell_type": "code",
   "execution_count": 48,
   "id": "8b88c130",
   "metadata": {},
   "outputs": [
    {
     "data": {
      "text/html": [
       "<div>\n",
       "<style scoped>\n",
       "    .dataframe tbody tr th:only-of-type {\n",
       "        vertical-align: middle;\n",
       "    }\n",
       "\n",
       "    .dataframe tbody tr th {\n",
       "        vertical-align: top;\n",
       "    }\n",
       "\n",
       "    .dataframe thead th {\n",
       "        text-align: right;\n",
       "    }\n",
       "</style>\n",
       "<table border=\"1\" class=\"dataframe\">\n",
       "  <thead>\n",
       "    <tr style=\"text-align: right;\">\n",
       "      <th></th>\n",
       "      <th>Peso</th>\n",
       "    </tr>\n",
       "  </thead>\n",
       "  <tbody>\n",
       "    <tr>\n",
       "      <th>0</th>\n",
       "      <td>27.03</td>\n",
       "    </tr>\n",
       "    <tr>\n",
       "      <th>1</th>\n",
       "      <td>24.80</td>\n",
       "    </tr>\n",
       "    <tr>\n",
       "      <th>2</th>\n",
       "      <td>27.02</td>\n",
       "    </tr>\n",
       "    <tr>\n",
       "      <th>3</th>\n",
       "      <td>28.07</td>\n",
       "    </tr>\n",
       "    <tr>\n",
       "      <th>4</th>\n",
       "      <td>23.55</td>\n",
       "    </tr>\n",
       "    <tr>\n",
       "      <th>...</th>\n",
       "      <td>...</td>\n",
       "    </tr>\n",
       "    <tr>\n",
       "      <th>220</th>\n",
       "      <td>26.91</td>\n",
       "    </tr>\n",
       "    <tr>\n",
       "      <th>221</th>\n",
       "      <td>26.58</td>\n",
       "    </tr>\n",
       "    <tr>\n",
       "      <th>222</th>\n",
       "      <td>23.39</td>\n",
       "    </tr>\n",
       "    <tr>\n",
       "      <th>223</th>\n",
       "      <td>20.25</td>\n",
       "    </tr>\n",
       "    <tr>\n",
       "      <th>224</th>\n",
       "      <td>23.22</td>\n",
       "    </tr>\n",
       "  </tbody>\n",
       "</table>\n",
       "<p>225 rows × 1 columns</p>\n",
       "</div>"
      ],
      "text/plain": [
       "      Peso\n",
       "0    27.03\n",
       "1    24.80\n",
       "2    27.02\n",
       "3    28.07\n",
       "4    23.55\n",
       "..     ...\n",
       "220  26.91\n",
       "221  26.58\n",
       "222  23.39\n",
       "223  20.25\n",
       "224  23.22\n",
       "\n",
       "[225 rows x 1 columns]"
      ]
     },
     "execution_count": 48,
     "metadata": {},
     "output_type": "execute_result"
    }
   ],
   "source": [
    "import pandas as pd\n",
    "\n",
    "url = \"https://raw.githubusercontent.com/genomicsclass/dagdata/master/inst/extdata/femaleControlsPopulation.csv\"\n",
    "data = pd.read_csv(url)\n",
    "\n",
    "data = data.values.flatten() #convertirlo en un vector numérico\n",
    "\n",
    "poblacion = pd.DataFrame(data, columns=[\"Peso\"])\n",
    "poblacion"
   ]
  },
  {
   "cell_type": "markdown",
   "id": "976ad963",
   "metadata": {},
   "source": [
    "Ahora tomemos una muestra de 12 ratones tres veces y veamos cómo cambia el promedio."
   ]
  },
  {
   "cell_type": "code",
   "execution_count": 54,
   "id": "fb958525",
   "metadata": {},
   "outputs": [
    {
     "data": {
      "text/plain": [
       "23.208333333333332"
      ]
     },
     "execution_count": 54,
     "metadata": {},
     "output_type": "execute_result"
    }
   ],
   "source": [
    "control = poblacion.sample(12)\n",
    "control = control.values.flatten()\n",
    "control\n",
    "mean(control)"
   ]
  },
  {
   "cell_type": "code",
   "execution_count": 55,
   "id": "9b795e32",
   "metadata": {},
   "outputs": [
    {
     "data": {
      "text/plain": [
       "23.503333333333334"
      ]
     },
     "execution_count": 55,
     "metadata": {},
     "output_type": "execute_result"
    }
   ],
   "source": [
    "control = poblacion.sample(12)\n",
    "control = control.values.flatten()\n",
    "control\n",
    "mean(control)"
   ]
  },
  {
   "cell_type": "code",
   "execution_count": 57,
   "id": "f7310ffa",
   "metadata": {},
   "outputs": [
    {
     "data": {
      "text/plain": [
       "24.839166666666667"
      ]
     },
     "execution_count": 57,
     "metadata": {},
     "output_type": "execute_result"
    }
   ],
   "source": [
    "control = poblacion.sample(12)\n",
    "control = control.values.flatten()\n",
    "control\n",
    "mean(control)"
   ]
  },
  {
   "cell_type": "markdown",
   "id": "6ec40c8b",
   "metadata": {},
   "source": [
    "Observe cómo varía el promedio. Podemos continuar haciendo esto repetidamente y comenzar a aprender algo sobre la distribución de esta variable aleatoria."
   ]
  }
 ],
 "metadata": {
  "kernelspec": {
   "display_name": "Python 3 (ipykernel)",
   "language": "python",
   "name": "python3"
  },
  "language_info": {
   "codemirror_mode": {
    "name": "ipython",
    "version": 3
   },
   "file_extension": ".py",
   "mimetype": "text/x-python",
   "name": "python",
   "nbconvert_exporter": "python",
   "pygments_lexer": "ipython3",
   "version": "3.9.13"
  }
 },
 "nbformat": 4,
 "nbformat_minor": 5
}
