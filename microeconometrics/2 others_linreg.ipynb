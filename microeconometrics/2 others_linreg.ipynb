{
 "cells": [
  {
   "attachments": {},
   "cell_type": "markdown",
   "metadata": {},
   "source": [
    "## Otros temas de regresion lineal\n",
    "Asociado al modelo de regresion lineal existen conceptos adicionales que suelen ser relevantes ser considerados en las estimaciones:\n",
    "1. Multicolinealidad\n",
    "2. Variables dummy\n",
    "3. Pronósticos"
   ]
  },
  {
   "cell_type": "code",
   "execution_count": 1,
   "metadata": {},
   "outputs": [],
   "source": [
    "import pandas as pd\n",
    "import numpy as np\n",
    "import matplotlib.pyplot as plt\n",
    "import seaborn as sns\n",
    "sns.set_style(\"whitegrid\")\n",
    "\n",
    "import statsmodels.api as sm\n",
    "from statsmodels.stats.outliers_influence import variance_inflation_factor\n",
    "import statsmodels.formula.api as smf"
   ]
  },
  {
   "attachments": {},
   "cell_type": "markdown",
   "metadata": {},
   "source": [
    "### Multicolinealidad\n",
    "Para esto se usara con la base de datos Longley, la cual es conocida por contar con alto nivel de multicolinealidad"
   ]
  },
  {
   "cell_type": "code",
   "execution_count": 2,
   "metadata": {},
   "outputs": [
    {
     "name": "stdout",
     "output_type": "stream",
     "text": [
      "   const  lnGNPDEFL      lnGNP   lnUNEMP   lnARMED      lnPOP\n",
      "0    1.0   4.418841  12.364311  7.764721  7.371489  11.586250\n",
      "1    1.0   4.483003  12.466227  7.751475  7.283448  11.595721\n",
      "2    1.0   4.479607  12.460924  8.211211  7.387709  11.606170\n",
      "3    1.0   4.494239  12.558836  8.117014  7.408531  11.616646\n",
      "4    1.0   4.566429  12.703737  7.649216  8.038835  11.626924\n"
     ]
    }
   ],
   "source": [
    "X = sm.datasets.longley.load_pandas().exog\n",
    "X = sm.add_constant(X)\n",
    "y = sm.datasets.longley.load_pandas().endog # Total Employment\n",
    "\n",
    "dta = X.join(y)\n",
    "dta.to_csv(\"../data/longley.csv\")\n",
    "\n",
    "# Modificaciones\n",
    "X[\"lnGNPDEFL\"] = np.log(X[\"GNPDEFL\"])\n",
    "X[\"lnGNP\"] = np.log(X[\"GNP\"])\n",
    "X[\"lnUNEMP\"] = np.log(X[\"UNEMP\"])\n",
    "X[\"lnARMED\"] = np.log(X[\"ARMED\"])\n",
    "X[\"lnPOP\"] = np.log(X[\"POP\"])\n",
    "y = np.log(y)\n",
    "\n",
    "# Set final\n",
    "X = X[[\"const\", \"lnGNPDEFL\", \"lnGNP\", \"lnUNEMP\", \"lnARMED\", \"lnPOP\"]]\n",
    "print(X.head())"
   ]
  },
  {
   "cell_type": "code",
   "execution_count": 3,
   "metadata": {},
   "outputs": [
    {
     "name": "stdout",
     "output_type": "stream",
     "text": [
      "                            OLS Regression Results                            \n",
      "==============================================================================\n",
      "Dep. Variable:                 TOTEMP   R-squared:                       0.988\n",
      "Model:                            OLS   Adj. R-squared:                  0.981\n",
      "Method:                 Least Squares   F-statistic:                     158.3\n",
      "Date:                Thu, 09 Feb 2023   Prob (F-statistic):           3.49e-09\n",
      "Time:                        18:11:36   Log-Likelihood:                 59.589\n",
      "No. Observations:                  16   AIC:                            -107.2\n",
      "Df Residuals:                      10   BIC:                            -102.5\n",
      "Df Model:                           5                                         \n",
      "Covariance Type:            nonrobust                                         \n",
      "==============================================================================\n",
      "                 coef    std err          t      P>|t|      [0.025      0.975]\n",
      "------------------------------------------------------------------------------\n",
      "const          8.6488      2.436      3.551      0.005       3.221      14.076\n",
      "lnGNPDEFL     -0.1923      0.180     -1.071      0.309      -0.593       0.208\n",
      "lnGNP          0.3294      0.103      3.183      0.010       0.099       0.560\n",
      "lnUNEMP       -0.0342      0.012     -2.750      0.020      -0.062      -0.006\n",
      "lnARMED       -0.0412      0.013     -3.154      0.010      -0.070      -0.012\n",
      "lnPOP         -0.0262      0.276     -0.095      0.926      -0.641       0.589\n",
      "==============================================================================\n",
      "Omnibus:                        0.770   Durbin-Watson:                   1.562\n",
      "Prob(Omnibus):                  0.681   Jarque-Bera (JB):                0.156\n",
      "Skew:                           0.241   Prob(JB):                        0.925\n",
      "Kurtosis:                       3.045   Cond. No.                     2.82e+04\n",
      "==============================================================================\n",
      "\n",
      "Notes:\n",
      "[1] Standard Errors assume that the covariance matrix of the errors is correctly specified.\n",
      "[2] The condition number is large, 2.82e+04. This might indicate that there are\n",
      "strong multicollinearity or other numerical problems.\n"
     ]
    },
    {
     "name": "stderr",
     "output_type": "stream",
     "text": [
      "c:\\Users\\user\\anaconda3\\lib\\site-packages\\scipy\\stats\\_stats_py.py:1477: UserWarning: kurtosistest only valid for n>=20 ... continuing anyway, n=16\n",
      "  warnings.warn(\"kurtosistest only valid for n>=20 ... continuing \"\n"
     ]
    }
   ],
   "source": [
    "# Model\n",
    "model = sm.OLS(y, X)\n",
    "results = model.fit()\n",
    "print(results.summary())"
   ]
  },
  {
   "attachments": {},
   "cell_type": "markdown",
   "metadata": {},
   "source": [
    "¿Como detectar la multicolinealidad?\n",
    "1. Presencia de estadisticos t bajos \n",
    "2. Estimadores cambian fuertemente al agregar explicativas\n",
    "3. Estimadores cambian fuertemente al agregar observaciones\n",
    "4. Signos diferentes a los que esperabamos\n",
    "5. Calculo de la matriz de correlaciones\n",
    "6. Calculo del factor de inflacion de varianzas (VIF)"
   ]
  },
  {
   "cell_type": "code",
   "execution_count": 4,
   "metadata": {},
   "outputs": [
    {
     "name": "stdout",
     "output_type": "stream",
     "text": [
      "Variaciones porcentuales -99.5%\n",
      "Variaciones porcentuales -136.5%\n",
      "Variaciones porcentuales -1.6%\n",
      "Variaciones porcentuales 242.8%\n",
      "Variaciones porcentuales -928.0%\n",
      "Variaciones porcentuales -1762.3%\n"
     ]
    }
   ],
   "source": [
    "# Test 3\n",
    "results2 = sm.OLS(y.iloc[:3], X.iloc[:3]).fit()\n",
    "\n",
    "# Variaciones % al quitar 3 observaciones\n",
    "variaciones = tuple(\n",
    "    [i for i in (results2.params - results.params) / results.params * 100]\n",
    ")\n",
    "\n",
    "for i in variaciones:\n",
    "    print(f\"Variaciones porcentuales {np.round(i, 1)}%\")"
   ]
  },
  {
   "cell_type": "code",
   "execution_count": 5,
   "metadata": {},
   "outputs": [
    {
     "data": {
      "image/png": "[encoded data removed]",
      "text/plain": [
       "<Figure size 640x480 with 2 Axes>"
      ]
     },
     "metadata": {},
     "output_type": "display_data"
    }
   ],
   "source": [
    "# Test 5\n",
    "X_corr = X[[\"lnGNPDEFL\", \"lnGNP\", \"lnUNEMP\", \"lnARMED\", \"lnPOP\"]]\n",
    "X_corr = X_corr.corr()\n",
    "\n",
    "\n",
    "plt.figure()\n",
    "sns.heatmap(\n",
    "    X_corr, cbar = True, annot = True, square = True,\n",
    "    fmt = \".2f\", annot_kws = {\"size\":10}, vmax = 1, cmap=\"crest\"\n",
    ")\n",
    "plt.subplots_adjust()\n",
    "plt.savefig(\"../figures/multicolineality.pdf\")\n",
    "\n",
    "plt.show()"
   ]
  },
  {
   "cell_type": "code",
   "execution_count": 6,
   "metadata": {},
   "outputs": [
    {
     "data": {
      "text/html": [
       "<div>\n",
       "<style scoped>\n",
       "    .dataframe tbody tr th:only-of-type {\n",
       "        vertical-align: middle;\n",
       "    }\n",
       "\n",
       "    .dataframe tbody tr th {\n",
       "        vertical-align: top;\n",
       "    }\n",
       "\n",
       "    .dataframe thead th {\n",
       "        text-align: right;\n",
       "    }\n",
       "</style>\n",
       "<table border=\"1\" class=\"dataframe\">\n",
       "  <thead>\n",
       "    <tr style=\"text-align: right;\">\n",
       "      <th></th>\n",
       "      <th>VIF Factor</th>\n",
       "    </tr>\n",
       "    <tr>\n",
       "      <th>features</th>\n",
       "      <th></th>\n",
       "    </tr>\n",
       "  </thead>\n",
       "  <tbody>\n",
       "    <tr>\n",
       "      <th>const</th>\n",
       "      <td>1740440.52</td>\n",
       "    </tr>\n",
       "    <tr>\n",
       "      <th>lnGNPDEFL</th>\n",
       "      <td>103.05</td>\n",
       "    </tr>\n",
       "    <tr>\n",
       "      <th>lnGNP</th>\n",
       "      <td>211.55</td>\n",
       "    </tr>\n",
       "    <tr>\n",
       "      <th>lnUNEMP</th>\n",
       "      <td>3.93</td>\n",
       "    </tr>\n",
       "    <tr>\n",
       "      <th>lnARMED</th>\n",
       "      <td>4.18</td>\n",
       "    </tr>\n",
       "    <tr>\n",
       "      <th>lnPOP</th>\n",
       "      <td>72.71</td>\n",
       "    </tr>\n",
       "  </tbody>\n",
       "</table>\n",
       "</div>"
      ],
      "text/plain": [
       "           VIF Factor\n",
       "features             \n",
       "const      1740440.52\n",
       "lnGNPDEFL      103.05\n",
       "lnGNP          211.55\n",
       "lnUNEMP          3.93\n",
       "lnARMED          4.18\n",
       "lnPOP           72.71"
      ]
     },
     "execution_count": 6,
     "metadata": {},
     "output_type": "execute_result"
    }
   ],
   "source": [
    "# Test 6\n",
    "vif = pd.DataFrame()\n",
    "vif[\"VIF Factor\"] = np.round(\n",
    "    [variance_inflation_factor(X.values, i) for i in range(X.shape[1])]\n",
    "    , 2)\n",
    "vif[\"features\"] = X.columns\n",
    "vif.set_index(\"features\", inplace=True)\n",
    "\n",
    "vif"
   ]
  },
  {
   "attachments": {},
   "cell_type": "markdown",
   "metadata": {},
   "source": [
    "Gracias a estos dos factores se encuentra que hay presencia de multicolinealidad en las exogenas:\n",
    "* lnGNPDEFL\n",
    "* lnGNP\n",
    "* lnPOP"
   ]
  },
  {
   "attachments": {},
   "cell_type": "markdown",
   "metadata": {},
   "source": [
    "### Variables dummy\n",
    "Se puede trabajar con datasets donde la exógena es una dummy binaria o multinominal. Se usara el dataset de la UCLA sobre rendimiento en escritura.\n",
    "\n",
    "La endogena es `write`. Las exogenas son la dummy `female`, nivel de lectura `read` y la categoria `race` dividido por nivles (1 = Hispanic, 2 = Asian, 3 = African American and 4 = Caucasian)"
   ]
  },
  {
   "cell_type": "code",
   "execution_count": 7,
   "metadata": {},
   "outputs": [
    {
     "data": {
      "text/html": [
       "<div>\n",
       "<style scoped>\n",
       "    .dataframe tbody tr th:only-of-type {\n",
       "        vertical-align: middle;\n",
       "    }\n",
       "\n",
       "    .dataframe tbody tr th {\n",
       "        vertical-align: top;\n",
       "    }\n",
       "\n",
       "    .dataframe thead th {\n",
       "        text-align: right;\n",
       "    }\n",
       "</style>\n",
       "<table border=\"1\" class=\"dataframe\">\n",
       "  <thead>\n",
       "    <tr style=\"text-align: right;\">\n",
       "      <th></th>\n",
       "      <th>id</th>\n",
       "      <th>female</th>\n",
       "      <th>race</th>\n",
       "      <th>ses</th>\n",
       "      <th>schtyp</th>\n",
       "      <th>prog</th>\n",
       "      <th>read</th>\n",
       "      <th>write</th>\n",
       "      <th>math</th>\n",
       "      <th>science</th>\n",
       "      <th>socst</th>\n",
       "    </tr>\n",
       "  </thead>\n",
       "  <tbody>\n",
       "    <tr>\n",
       "      <th>0</th>\n",
       "      <td>70</td>\n",
       "      <td>0</td>\n",
       "      <td>4</td>\n",
       "      <td>1</td>\n",
       "      <td>1</td>\n",
       "      <td>1</td>\n",
       "      <td>57</td>\n",
       "      <td>52</td>\n",
       "      <td>41</td>\n",
       "      <td>47</td>\n",
       "      <td>57</td>\n",
       "    </tr>\n",
       "    <tr>\n",
       "      <th>1</th>\n",
       "      <td>121</td>\n",
       "      <td>1</td>\n",
       "      <td>4</td>\n",
       "      <td>2</td>\n",
       "      <td>1</td>\n",
       "      <td>3</td>\n",
       "      <td>68</td>\n",
       "      <td>59</td>\n",
       "      <td>53</td>\n",
       "      <td>63</td>\n",
       "      <td>61</td>\n",
       "    </tr>\n",
       "    <tr>\n",
       "      <th>2</th>\n",
       "      <td>86</td>\n",
       "      <td>0</td>\n",
       "      <td>4</td>\n",
       "      <td>3</td>\n",
       "      <td>1</td>\n",
       "      <td>1</td>\n",
       "      <td>44</td>\n",
       "      <td>33</td>\n",
       "      <td>54</td>\n",
       "      <td>58</td>\n",
       "      <td>31</td>\n",
       "    </tr>\n",
       "  </tbody>\n",
       "</table>\n",
       "</div>"
      ],
      "text/plain": [
       "    id  female  race  ses  schtyp  prog  read  write  math  science  socst\n",
       "0   70       0     4    1       1     1    57     52    41       47     57\n",
       "1  121       1     4    2       1     3    68     59    53       63     61\n",
       "2   86       0     4    3       1     1    44     33    54       58     31"
      ]
     },
     "execution_count": 7,
     "metadata": {},
     "output_type": "execute_result"
    }
   ],
   "source": [
    "url = \"https://stats.idre.ucla.edu/stat/data/hsb2.csv\"\n",
    "df = pd.read_table(url, delimiter=\",\")\n",
    "df.to_csv(\"../data/ucla.csv\")\n",
    "\n",
    "df.head(3)"
   ]
  },
  {
   "cell_type": "code",
   "execution_count": 8,
   "metadata": {},
   "outputs": [
    {
     "data": {
      "text/html": [
       "<div>\n",
       "<style scoped>\n",
       "    .dataframe tbody tr th:only-of-type {\n",
       "        vertical-align: middle;\n",
       "    }\n",
       "\n",
       "    .dataframe tbody tr th {\n",
       "        vertical-align: top;\n",
       "    }\n",
       "\n",
       "    .dataframe thead th {\n",
       "        text-align: right;\n",
       "    }\n",
       "</style>\n",
       "<table border=\"1\" class=\"dataframe\">\n",
       "  <thead>\n",
       "    <tr style=\"text-align: right;\">\n",
       "      <th></th>\n",
       "      <th>write</th>\n",
       "      <th>female</th>\n",
       "      <th>read</th>\n",
       "      <th>race</th>\n",
       "    </tr>\n",
       "  </thead>\n",
       "  <tbody>\n",
       "    <tr>\n",
       "      <th>0</th>\n",
       "      <td>52</td>\n",
       "      <td>0</td>\n",
       "      <td>57</td>\n",
       "      <td>4</td>\n",
       "    </tr>\n",
       "    <tr>\n",
       "      <th>1</th>\n",
       "      <td>59</td>\n",
       "      <td>1</td>\n",
       "      <td>68</td>\n",
       "      <td>4</td>\n",
       "    </tr>\n",
       "    <tr>\n",
       "      <th>2</th>\n",
       "      <td>33</td>\n",
       "      <td>0</td>\n",
       "      <td>44</td>\n",
       "      <td>4</td>\n",
       "    </tr>\n",
       "  </tbody>\n",
       "</table>\n",
       "</div>"
      ],
      "text/plain": [
       "   write  female  read  race\n",
       "0     52       0    57     4\n",
       "1     59       1    68     4\n",
       "2     33       0    44     4"
      ]
     },
     "execution_count": 8,
     "metadata": {},
     "output_type": "execute_result"
    }
   ],
   "source": [
    "df = df[[\"write\", \"female\", \"read\", \"race\"]]\n",
    "df.head(3)"
   ]
  },
  {
   "cell_type": "code",
   "execution_count": 9,
   "metadata": {},
   "outputs": [
    {
     "name": "stdout",
     "output_type": "stream",
     "text": [
      "race\n",
      "1    46.46\n",
      "2    58.00\n",
      "3    48.20\n",
      "4    54.06\n",
      "Name: write, dtype: float64\n",
      "Se encuentra que el mayor nivel de lectura se encuentra en las personas asiaticas y en causticos. Los hispanicos tienen el menor nivel\n"
     ]
    }
   ],
   "source": [
    "print(\n",
    "    np.round(\n",
    "        df.groupby(\"race\")[\"write\"].mean()\n",
    "        ,2\n",
    "    )\n",
    ")\n",
    "\n",
    "print(\"Se encuentra que el mayor nivel de lectura se encuentra \\\n",
    "en las personas asiaticas y en causticos. Los hispanicos \\\n",
    "tienen el menor nivel\")"
   ]
  },
  {
   "attachments": {},
   "cell_type": "markdown",
   "metadata": {},
   "source": [
    "#### Modelo equivocado!!"
   ]
  },
  {
   "cell_type": "code",
   "execution_count": 10,
   "metadata": {},
   "outputs": [
    {
     "name": "stdout",
     "output_type": "stream",
     "text": [
      "                                 OLS Regression Results                                \n",
      "=======================================================================================\n",
      "Dep. Variable:                  write   R-squared (uncentered):                   0.979\n",
      "Model:                            OLS   Adj. R-squared (uncentered):              0.979\n",
      "Method:                 Least Squares   F-statistic:                              3070.\n",
      "Date:                Thu, 09 Feb 2023   Prob (F-statistic):                   4.59e-165\n",
      "Time:                        18:11:37   Log-Likelihood:                         -693.54\n",
      "No. Observations:                 200   AIC:                                      1393.\n",
      "Df Residuals:                     197   BIC:                                      1403.\n",
      "Df Model:                           3                                                  \n",
      "Covariance Type:            nonrobust                                                  \n",
      "==============================================================================\n",
      "                 coef    std err          t      P>|t|      [0.025      0.975]\n",
      "------------------------------------------------------------------------------\n",
      "female         6.9776      1.082      6.451      0.000       4.845       9.111\n",
      "read           0.8044      0.035     22.988      0.000       0.735       0.873\n",
      "race           1.8640      0.512      3.642      0.000       0.855       2.873\n",
      "==============================================================================\n",
      "Omnibus:                        4.645   Durbin-Watson:                   2.064\n",
      "Prob(Omnibus):                  0.098   Jarque-Bera (JB):                2.778\n",
      "Skew:                          -0.009   Prob(JB):                        0.249\n",
      "Kurtosis:                       2.423   Cond. No.                         105.\n",
      "==============================================================================\n",
      "\n",
      "Notes:\n",
      "[1] R² is computed without centering (uncentered) since the model does not contain a constant.\n",
      "[2] Standard Errors assume that the covariance matrix of the errors is correctly specified.\n"
     ]
    }
   ],
   "source": [
    "X = df[[\"female\", \"read\", \"race\"]]\n",
    "y = df[\"write\"]\n",
    "\n",
    "model = sm.OLS(y, X)\n",
    "results = model.fit()\n",
    "\n",
    "print(results.summary())"
   ]
  },
  {
   "attachments": {},
   "cell_type": "markdown",
   "metadata": {},
   "source": [
    "#### Modelo correcto!!\n",
    "Por _default_ se define como base a la _dummy_ igual a 1"
   ]
  },
  {
   "cell_type": "code",
   "execution_count": 11,
   "metadata": {},
   "outputs": [
    {
     "name": "stdout",
     "output_type": "stream",
     "text": [
      "                            OLS Regression Results                            \n",
      "==============================================================================\n",
      "Dep. Variable:                  write   R-squared:                       0.469\n",
      "Model:                            OLS   Adj. R-squared:                  0.455\n",
      "Method:                 Least Squares   F-statistic:                     34.22\n",
      "Date:                Thu, 09 Feb 2023   Prob (F-statistic):           5.50e-25\n",
      "Time:                        18:11:37   Log-Likelihood:                -669.86\n",
      "No. Observations:                 200   AIC:                             1352.\n",
      "Df Residuals:                     194   BIC:                             1372.\n",
      "Df Model:                           5                                         \n",
      "Covariance Type:            nonrobust                                         \n",
      "================================================================================\n",
      "                   coef    std err          t      P>|t|      [0.025      0.975]\n",
      "--------------------------------------------------------------------------------\n",
      "Intercept       19.2918      2.818      6.845      0.000      13.733      24.850\n",
      "C(race)[T.2]     7.3459      2.577      2.850      0.005       2.263      12.429\n",
      "C(race)[T.3]     0.6627      2.127      0.311      0.756      -3.533       4.858\n",
      "C(race)[T.4]     3.3645      1.588      2.119      0.035       0.233       6.496\n",
      "read             0.5305      0.051     10.482      0.000       0.431       0.630\n",
      "female           5.2606      1.003      5.245      0.000       3.282       7.239\n",
      "==============================================================================\n",
      "Omnibus:                        6.227   Durbin-Watson:                   1.960\n",
      "Prob(Omnibus):                  0.044   Jarque-Bera (JB):                4.801\n",
      "Skew:                          -0.267   Prob(JB):                       0.0907\n",
      "Kurtosis:                       2.461   Cond. No.                         358.\n",
      "==============================================================================\n",
      "\n",
      "Notes:\n",
      "[1] Standard Errors assume that the covariance matrix of the errors is correctly specified.\n"
     ]
    }
   ],
   "source": [
    "model = smf.ols(\"write ~ read + female + C(race)\", data=df)\n",
    "results = model.fit()\n",
    "\n",
    "print(results.summary())"
   ]
  },
  {
   "attachments": {},
   "cell_type": "markdown",
   "metadata": {},
   "source": [
    "Aunque se puede definir de manera explicita cual es la base de la _dummy_ == 1"
   ]
  },
  {
   "cell_type": "code",
   "execution_count": 12,
   "metadata": {},
   "outputs": [
    {
     "name": "stdout",
     "output_type": "stream",
     "text": [
      "                            OLS Regression Results                            \n",
      "==============================================================================\n",
      "Dep. Variable:                  write   R-squared:                       0.469\n",
      "Model:                            OLS   Adj. R-squared:                  0.455\n",
      "Method:                 Least Squares   F-statistic:                     34.22\n",
      "Date:                Thu, 09 Feb 2023   Prob (F-statistic):           5.50e-25\n",
      "Time:                        18:11:37   Log-Likelihood:                -669.86\n",
      "No. Observations:                 200   AIC:                             1352.\n",
      "Df Residuals:                     194   BIC:                             1372.\n",
      "Df Model:                           5                                         \n",
      "Covariance Type:            nonrobust                                         \n",
      "========================================================================================================\n",
      "                                           coef    std err          t      P>|t|      [0.025      0.975]\n",
      "--------------------------------------------------------------------------------------------------------\n",
      "Intercept                               19.2918      2.818      6.845      0.000      13.733      24.850\n",
      "C(race, Treatment(reference=1))[T.2]     7.3459      2.577      2.850      0.005       2.263      12.429\n",
      "C(race, Treatment(reference=1))[T.3]     0.6627      2.127      0.311      0.756      -3.533       4.858\n",
      "C(race, Treatment(reference=1))[T.4]     3.3645      1.588      2.119      0.035       0.233       6.496\n",
      "read                                     0.5305      0.051     10.482      0.000       0.431       0.630\n",
      "female                                   5.2606      1.003      5.245      0.000       3.282       7.239\n",
      "==============================================================================\n",
      "Omnibus:                        6.227   Durbin-Watson:                   1.960\n",
      "Prob(Omnibus):                  0.044   Jarque-Bera (JB):                4.801\n",
      "Skew:                          -0.267   Prob(JB):                       0.0907\n",
      "Kurtosis:                       2.461   Cond. No.                         358.\n",
      "==============================================================================\n",
      "\n",
      "Notes:\n",
      "[1] Standard Errors assume that the covariance matrix of the errors is correctly specified.\n"
     ]
    }
   ],
   "source": [
    "model = smf.ols(\"write ~ read + female + C(race, Treatment(reference=1))\", data=df)\n",
    "results = model.fit()\n",
    "\n",
    "print(results.summary())"
   ]
  },
  {
   "attachments": {},
   "cell_type": "markdown",
   "metadata": {},
   "source": [
    "### Pronosticos"
   ]
  },
  {
   "cell_type": "code",
   "execution_count": 13,
   "metadata": {},
   "outputs": [
    {
     "name": "stdout",
     "output_type": "stream",
     "text": [
      "                            OLS Regression Results                            \n",
      "==============================================================================\n",
      "Dep. Variable:                lnprice   R-squared:                       0.322\n",
      "Model:                            OLS   Adj. R-squared:                  0.303\n",
      "Method:                 Least Squares   F-statistic:                     16.86\n",
      "Date:                Thu, 09 Feb 2023   Prob (F-statistic):           1.02e-06\n",
      "Time:                        18:11:38   Log-Likelihood:                -20.837\n",
      "No. Observations:                  74   AIC:                             47.67\n",
      "Df Residuals:                      71   BIC:                             54.59\n",
      "Df Model:                           2                                         \n",
      "Covariance Type:            nonrobust                                         \n",
      "==============================================================================\n",
      "                 coef    std err          t      P>|t|      [0.025      0.975]\n",
      "------------------------------------------------------------------------------\n",
      "const          7.9460      0.170     46.752      0.000       7.607       8.285\n",
      "weight         0.0003   5.63e-05      5.698      0.000       0.000       0.000\n",
      "headroom      -0.0916      0.052     -1.771      0.081      -0.195       0.012\n",
      "==============================================================================\n",
      "Omnibus:                        6.209   Durbin-Watson:                   1.303\n",
      "Prob(Omnibus):                  0.045   Jarque-Bera (JB):                5.991\n",
      "Skew:                           0.641   Prob(JB):                       0.0500\n",
      "Kurtosis:                       2.453   Cond. No.                     1.40e+04\n",
      "==============================================================================\n",
      "\n",
      "Notes:\n",
      "[1] Standard Errors assume that the covariance matrix of the errors is correctly specified.\n",
      "[2] The condition number is large, 1.4e+04. This might indicate that there are\n",
      "strong multicollinearity or other numerical problems.\n"
     ]
    }
   ],
   "source": [
    "dta = sm.datasets.webuse(\"auto\")\n",
    "\n",
    "X = dta[[\"weight\", \"headroom\"]]\n",
    "X = sm.add_constant(X)\n",
    "\n",
    "dta[\"lnprice\"] = np.log(dta[\"price\"])\n",
    "y = dta[\"lnprice\"]\n",
    "\n",
    "# Modelo\n",
    "model = sm.OLS(y, X)\n",
    "results = model.fit()\n",
    "\n",
    "print(results.summary())"
   ]
  },
  {
   "cell_type": "code",
   "execution_count": 14,
   "metadata": {},
   "outputs": [
    {
     "name": "stdout",
     "output_type": "stream",
     "text": [
      "[8.63376916]\n"
     ]
    },
    {
     "data": {
      "text/html": [
       "<div>\n",
       "<style scoped>\n",
       "    .dataframe tbody tr th:only-of-type {\n",
       "        vertical-align: middle;\n",
       "    }\n",
       "\n",
       "    .dataframe tbody tr th {\n",
       "        vertical-align: top;\n",
       "    }\n",
       "\n",
       "    .dataframe thead th {\n",
       "        text-align: right;\n",
       "    }\n",
       "</style>\n",
       "<table border=\"1\" class=\"dataframe\">\n",
       "  <thead>\n",
       "    <tr style=\"text-align: right;\">\n",
       "      <th></th>\n",
       "      <th>mean</th>\n",
       "      <th>mean_se</th>\n",
       "      <th>mean_ci_lower</th>\n",
       "      <th>mean_ci_upper</th>\n",
       "      <th>obs_ci_lower</th>\n",
       "      <th>obs_ci_upper</th>\n",
       "    </tr>\n",
       "  </thead>\n",
       "  <tbody>\n",
       "    <tr>\n",
       "      <th>0</th>\n",
       "      <td>8.633769</td>\n",
       "      <td>0.038078</td>\n",
       "      <td>8.557843</td>\n",
       "      <td>8.709695</td>\n",
       "      <td>7.976613</td>\n",
       "      <td>9.290926</td>\n",
       "    </tr>\n",
       "  </tbody>\n",
       "</table>\n",
       "</div>"
      ],
      "text/plain": [
       "       mean   mean_se  mean_ci_lower  mean_ci_upper  obs_ci_lower  \\\n",
       "0  8.633769  0.038078       8.557843       8.709695      7.976613   \n",
       "\n",
       "   obs_ci_upper  \n",
       "0      9.290926  "
      ]
     },
     "execution_count": 14,
     "metadata": {},
     "output_type": "execute_result"
    }
   ],
   "source": [
    "to_predict = np.array([1, 3000, 3], dtype=\"float\")\n",
    "\n",
    "# Proyección del logaritmo del precio\n",
    "print(results.predict(to_predict))  # Predicción de la mediana\n",
    "results.get_prediction(to_predict).summary_frame(alpha=0.05) # Predicción de todos los valores relevantes"
   ]
  },
  {
   "cell_type": "code",
   "execution_count": 15,
   "metadata": {},
   "outputs": [
    {
     "name": "stdout",
     "output_type": "stream",
     "text": [
      "[5618.21437086]\n"
     ]
    }
   ],
   "source": [
    "# Proyeccion del precio\n",
    "print(np.exp(results.predict(to_predict)))"
   ]
  },
  {
   "attachments": {},
   "cell_type": "markdown",
   "metadata": {},
   "source": [
    "### Referencias:\n",
    "* https://www.statsmodels.org/dev/datasets/index.html\n",
    "* https://www.statsmodels.org/stable/examples/notebooks/generated/ols.html\n",
    "* https://www.statsmodels.org/dev/examples/notebooks/generated/contrasts.html"
   ]
  }
 ],
 "metadata": {
  "kernelspec": {
   "display_name": "base",
   "language": "python",
   "name": "python3"
  },
  "language_info": {
   "codemirror_mode": {
    "name": "ipython",
    "version": 3
   },
   "file_extension": ".py",
   "mimetype": "text/x-python",
   "name": "python",
   "nbconvert_exporter": "python",
   "pygments_lexer": "ipython3",
   "version": "3.9.13"
  },
  "orig_nbformat": 4,
  "vscode": {
   "interpreter": {
    "hash": "a077222d77dfe082b8f1dd562ad70e458ac2ab76993a0b248ab0476e32e9e8dd"
   }
  }
 },
 "nbformat": 4,
 "nbformat_minor": 2
}
