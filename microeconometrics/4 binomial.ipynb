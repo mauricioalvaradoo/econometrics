{
 "cells": [
  {
   "attachments": {},
   "cell_type": "markdown",
   "metadata": {},
   "source": [
    "## Variable dependiente Binomial\n",
    "Cuando se tiene como endogena a una variable binaria, no se puede estimar con un modelo lineal. La opcion mas adecuada es estimarse por un Probit o un Logit"
   ]
  },
  {
   "cell_type": "code",
   "execution_count": 1,
   "metadata": {},
   "outputs": [],
   "source": [
    "import pandas as pd\n",
    "import numpy as np\n",
    "import matplotlib.pyplot as plt\n",
    "import seaborn as sns\n",
    "sns.set_style(\"whitegrid\")\n",
    "\n",
    "import statsmodels.api as sm\n",
    "import statsmodels.formula.api as smf\n",
    "from sklearn.metrics import confusion_matrix, classification_report, ConfusionMatrixDisplay\n",
    "from sklearn.metrics import roc_auc_score, roc_curve"
   ]
  },
  {
   "attachments": {},
   "cell_type": "markdown",
   "metadata": {},
   "source": [
    "La base que se usara en todo este archivo es sobre la probabilidad de aceptacion a una universidad `admit` donde las explicativas son `gpa`, `gre` y `rank`. Las dos primeras son _Graduate Record Exam scores_ y _Grade Point Average_. El ultimo es el rango de prestigio del colegio"
   ]
  },
  {
   "cell_type": "code",
   "execution_count": 2,
   "metadata": {},
   "outputs": [
    {
     "data": {
      "text/html": [
       "<div>\n",
       "<style scoped>\n",
       "    .dataframe tbody tr th:only-of-type {\n",
       "        vertical-align: middle;\n",
       "    }\n",
       "\n",
       "    .dataframe tbody tr th {\n",
       "        vertical-align: top;\n",
       "    }\n",
       "\n",
       "    .dataframe thead th {\n",
       "        text-align: right;\n",
       "    }\n",
       "</style>\n",
       "<table border=\"1\" class=\"dataframe\">\n",
       "  <thead>\n",
       "    <tr style=\"text-align: right;\">\n",
       "      <th></th>\n",
       "      <th>admit</th>\n",
       "      <th>gre</th>\n",
       "      <th>gpa</th>\n",
       "      <th>rank</th>\n",
       "    </tr>\n",
       "  </thead>\n",
       "  <tbody>\n",
       "    <tr>\n",
       "      <th>0</th>\n",
       "      <td>0.0</td>\n",
       "      <td>380.0</td>\n",
       "      <td>3.61</td>\n",
       "      <td>3.0</td>\n",
       "    </tr>\n",
       "    <tr>\n",
       "      <th>1</th>\n",
       "      <td>1.0</td>\n",
       "      <td>660.0</td>\n",
       "      <td>3.67</td>\n",
       "      <td>3.0</td>\n",
       "    </tr>\n",
       "    <tr>\n",
       "      <th>2</th>\n",
       "      <td>1.0</td>\n",
       "      <td>800.0</td>\n",
       "      <td>4.00</td>\n",
       "      <td>1.0</td>\n",
       "    </tr>\n",
       "    <tr>\n",
       "      <th>3</th>\n",
       "      <td>1.0</td>\n",
       "      <td>640.0</td>\n",
       "      <td>3.19</td>\n",
       "      <td>4.0</td>\n",
       "    </tr>\n",
       "    <tr>\n",
       "      <th>4</th>\n",
       "      <td>0.0</td>\n",
       "      <td>520.0</td>\n",
       "      <td>2.93</td>\n",
       "      <td>4.0</td>\n",
       "    </tr>\n",
       "  </tbody>\n",
       "</table>\n",
       "</div>"
      ],
      "text/plain": [
       "   admit    gre   gpa  rank\n",
       "0    0.0  380.0  3.61   3.0\n",
       "1    1.0  660.0  3.67   3.0\n",
       "2    1.0  800.0  4.00   1.0\n",
       "3    1.0  640.0  3.19   4.0\n",
       "4    0.0  520.0  2.93   4.0"
      ]
     },
     "execution_count": 2,
     "metadata": {},
     "output_type": "execute_result"
    }
   ],
   "source": [
    "dta = pd.read_stata(\"https://stats.idre.ucla.edu/stat/stata/dae/binary.dta\")\n",
    "X = dta[[\"gre\", \"gpa\", \"rank\"]]\n",
    "y = dta[\"admit\"]\n",
    "\n",
    "dta.head()"
   ]
  },
  {
   "attachments": {},
   "cell_type": "markdown",
   "metadata": {},
   "source": [
    "### Probit"
   ]
  },
  {
   "cell_type": "code",
   "execution_count": 3,
   "metadata": {},
   "outputs": [
    {
     "name": "stdout",
     "output_type": "stream",
     "text": [
      "Optimization terminated successfully.\n",
      "         Current function value: 0.573016\n",
      "         Iterations 5\n",
      "                          Probit Regression Results                           \n",
      "==============================================================================\n",
      "Dep. Variable:                  admit   No. Observations:                  400\n",
      "Model:                         Probit   Df Residuals:                      394\n",
      "Method:                           MLE   Df Model:                            5\n",
      "Date:                Thu, 09 Feb 2023   Pseudo R-squ.:                 0.08313\n",
      "Time:                        18:15:00   Log-Likelihood:                -229.21\n",
      "converged:                       True   LL-Null:                       -249.99\n",
      "Covariance Type:            nonrobust   LLR p-value:                 7.219e-08\n",
      "==========================================================================================================\n",
      "                                             coef    std err          z      P>|z|      [0.025      0.975]\n",
      "----------------------------------------------------------------------------------------------------------\n",
      "Intercept                                 -2.3868      0.674     -3.541      0.000      -3.708      -1.066\n",
      "C(rank, Treatment(reference=1))[T.2.0]    -0.4154      0.195     -2.126      0.033      -0.798      -0.032\n",
      "C(rank, Treatment(reference=1))[T.3.0]    -0.8121      0.209     -3.893      0.000      -1.221      -0.403\n",
      "C(rank, Treatment(reference=1))[T.4.0]    -0.9359      0.246     -3.810      0.000      -1.417      -0.454\n",
      "gre                                        0.0014      0.001      2.120      0.034       0.000       0.003\n",
      "gpa                                        0.4777      0.195      2.444      0.015       0.095       0.861\n",
      "==========================================================================================================\n"
     ]
    }
   ],
   "source": [
    "model = smf.probit(\"admit ~ gre + gpa + C(rank, Treatment(reference=1))\", data=dta)\n",
    "results = model.fit()\n",
    "\n",
    "print(results.summary())"
   ]
  },
  {
   "attachments": {},
   "cell_type": "markdown",
   "metadata": {},
   "source": [
    "### Logit"
   ]
  },
  {
   "cell_type": "code",
   "execution_count": 4,
   "metadata": {},
   "outputs": [
    {
     "name": "stdout",
     "output_type": "stream",
     "text": [
      "Optimization terminated successfully.\n",
      "         Current function value: 0.573147\n",
      "         Iterations 6\n",
      "                           Logit Regression Results                           \n",
      "==============================================================================\n",
      "Dep. Variable:                  admit   No. Observations:                  400\n",
      "Model:                          Logit   Df Residuals:                      394\n",
      "Method:                           MLE   Df Model:                            5\n",
      "Date:                Thu, 09 Feb 2023   Pseudo R-squ.:                 0.08292\n",
      "Time:                        18:15:00   Log-Likelihood:                -229.26\n",
      "converged:                       True   LL-Null:                       -249.99\n",
      "Covariance Type:            nonrobust   LLR p-value:                 7.578e-08\n",
      "==========================================================================================================\n",
      "                                             coef    std err          z      P>|z|      [0.025      0.975]\n",
      "----------------------------------------------------------------------------------------------------------\n",
      "Intercept                                 -3.9900      1.140     -3.500      0.000      -6.224      -1.756\n",
      "C(rank, Treatment(reference=1))[T.2.0]    -0.6754      0.316     -2.134      0.033      -1.296      -0.055\n",
      "C(rank, Treatment(reference=1))[T.3.0]    -1.3402      0.345     -3.881      0.000      -2.017      -0.663\n",
      "C(rank, Treatment(reference=1))[T.4.0]    -1.5515      0.418     -3.713      0.000      -2.370      -0.733\n",
      "gre                                        0.0023      0.001      2.070      0.038       0.000       0.004\n",
      "gpa                                        0.8040      0.332      2.423      0.015       0.154       1.454\n",
      "==========================================================================================================\n"
     ]
    }
   ],
   "source": [
    "model = smf.logit(\"admit ~ gre + gpa + C(rank, Treatment(reference=1))\", data=dta)\n",
    "results = model.fit()\n",
    "\n",
    "print(results.summary())"
   ]
  },
  {
   "attachments": {},
   "cell_type": "markdown",
   "metadata": {},
   "source": [
    "### Efectos marginales\n",
    "Nos dan los coeficientes y efectos reales de cada variable sobre la probilidad de la endogena. Hacia adelante se usara los resultados del Logit. Los resultados se dividen principalmente de la siguiente manera:\n",
    "1. `overall` (AME): Promedio de los marginales de cada observacion\n",
    "2. `mean` (MEM): Efecto marginal de la observacion promedio"
   ]
  },
  {
   "cell_type": "code",
   "execution_count": 5,
   "metadata": {},
   "outputs": [
    {
     "name": "stdout",
     "output_type": "stream",
     "text": [
      "        Logit Marginal Effects       \n",
      "=====================================\n",
      "Dep. Variable:                  admit\n",
      "Method:                          dydx\n",
      "At:                           overall\n",
      "==========================================================================================================\n",
      "                                            dy/dx    std err          z      P>|z|      [0.025      0.975]\n",
      "----------------------------------------------------------------------------------------------------------\n",
      "C(rank, Treatment(reference=1))[T.2.0]    -0.1314      0.060     -2.184      0.029      -0.249      -0.013\n",
      "C(rank, Treatment(reference=1))[T.3.0]    -0.2608      0.062     -4.176      0.000      -0.383      -0.138\n",
      "C(rank, Treatment(reference=1))[T.4.0]    -0.3019      0.076     -3.956      0.000      -0.451      -0.152\n",
      "gre                                        0.0004      0.000      2.107      0.035    3.07e-05       0.001\n",
      "gpa                                        0.1564      0.063      2.485      0.013       0.033       0.280\n",
      "==========================================================================================================\n"
     ]
    }
   ],
   "source": [
    "AME = results.get_margeff(at=\"overall\", method=\"dydx\")\n",
    "\n",
    "print(AME.summary())"
   ]
  },
  {
   "cell_type": "code",
   "execution_count": 6,
   "metadata": {},
   "outputs": [
    {
     "name": "stdout",
     "output_type": "stream",
     "text": [
      "        Logit Marginal Effects       \n",
      "=====================================\n",
      "Dep. Variable:                  admit\n",
      "Method:                          dydx\n",
      "At:                              mean\n",
      "==========================================================================================================\n",
      "                                            dy/dx    std err          z      P>|z|      [0.025      0.975]\n",
      "----------------------------------------------------------------------------------------------------------\n",
      "C(rank, Treatment(reference=1))[T.2.0]    -0.1415      0.067     -2.126      0.033      -0.272      -0.011\n",
      "C(rank, Treatment(reference=1))[T.3.0]    -0.2807      0.072     -3.890      0.000      -0.422      -0.139\n",
      "C(rank, Treatment(reference=1))[T.4.0]    -0.3250      0.087     -3.742      0.000      -0.495      -0.155\n",
      "gre                                        0.0005      0.000      2.079      0.038    2.71e-05       0.001\n",
      "gpa                                        0.1684      0.069      2.436      0.015       0.033       0.304\n",
      "==========================================================================================================\n"
     ]
    }
   ],
   "source": [
    "MEM = results.get_margeff(at=\"mean\", method=\"dydx\")\n",
    "\n",
    "print(MEM.summary())"
   ]
  },
  {
   "attachments": {},
   "cell_type": "markdown",
   "metadata": {},
   "source": [
    "### ODDs-Ratio"
   ]
  },
  {
   "cell_type": "code",
   "execution_count": 7,
   "metadata": {},
   "outputs": [
    {
     "name": "stdout",
     "output_type": "stream",
     "text": [
      "Intercept                                 0.018500\n",
      "C(rank, Treatment(reference=1))[T.2.0]    0.508931\n",
      "C(rank, Treatment(reference=1))[T.3.0]    0.261792\n",
      "C(rank, Treatment(reference=1))[T.4.0]    0.211938\n",
      "gre                                       1.002267\n",
      "gpa                                       2.234545\n",
      "dtype: float64\n"
     ]
    }
   ],
   "source": [
    "print(np.exp(results.params))"
   ]
  },
  {
   "attachments": {},
   "cell_type": "markdown",
   "metadata": {},
   "source": [
    "### Evaluacion de ajuste\n",
    "Se puede evaluar el ajuste del modelo mediante cuatro vias:\n",
    "1. Pseudo R\n",
    "2. Significancia conjunta\n",
    "3. Matriz de confusion\n",
    "4. Curva ROC"
   ]
  },
  {
   "cell_type": "code",
   "execution_count": 8,
   "metadata": {},
   "outputs": [
    {
     "name": "stdout",
     "output_type": "stream",
     "text": [
      "0.083\n"
     ]
    }
   ],
   "source": [
    "# Evaluacion 1\n",
    "print(np.round(results.prsquared, 3))"
   ]
  },
  {
   "cell_type": "code",
   "execution_count": 9,
   "metadata": {},
   "outputs": [
    {
     "name": "stdout",
     "output_type": "stream",
     "text": [
      "0.0\n"
     ]
    }
   ],
   "source": [
    "# Evaluacion 2\n",
    "print(np.round(results.llr_pvalue, 3))"
   ]
  },
  {
   "cell_type": "code",
   "execution_count": 10,
   "metadata": {},
   "outputs": [],
   "source": [
    "# Evaluacion 3\n",
    "prediction = results.predict(X)\n",
    "\n",
    "cutoff = 0.5\n",
    "y_hat = np.where(prediction > cutoff, 1, 0)"
   ]
  },
  {
   "cell_type": "code",
   "execution_count": 11,
   "metadata": {},
   "outputs": [
    {
     "name": "stdout",
     "output_type": "stream",
     "text": [
      "              precision    recall  f1-score   support\n",
      "\n",
      "         0.0       0.72      0.93      0.81       273\n",
      "         1.0       0.61      0.24      0.34       127\n",
      "\n",
      "    accuracy                           0.71       400\n",
      "   macro avg       0.67      0.58      0.58       400\n",
      "weighted avg       0.69      0.71      0.66       400\n",
      "\n"
     ]
    }
   ],
   "source": [
    "clasif = classification_report(y, y_hat)\n",
    "print(clasif)"
   ]
  },
  {
   "cell_type": "code",
   "execution_count": 12,
   "metadata": {},
   "outputs": [
    {
     "data": {
      "image/png": "[encoded data removed]",
      "text/plain": [
       "<Figure size 640x480 with 2 Axes>"
      ]
     },
     "metadata": {},
     "output_type": "display_data"
    }
   ],
   "source": [
    "conf = confusion_matrix(y, y_hat)\n",
    "\n",
    "conf_plot = ConfusionMatrixDisplay(\n",
    "    confusion_matrix = conf,\n",
    "    display_labels=[\"No admitido\", \"Admitido\"]\n",
    ")\n",
    "\n",
    "conf_plot.plot()\n",
    "plt.grid(False)\n",
    "\n",
    "plt.savefig(\"../figures/confusion_matrix.pdf\")\n",
    "plt.show()"
   ]
  },
  {
   "cell_type": "code",
   "execution_count": 13,
   "metadata": {},
   "outputs": [
    {
     "data": {
      "image/png": "[encoded data removed]",
      "text/plain": [
       "<Figure size 640x480 with 1 Axes>"
      ]
     },
     "metadata": {},
     "output_type": "display_data"
    }
   ],
   "source": [
    "# Evaluacion 4\n",
    "fpr, tpr, thresholds = roc_curve(y, prediction)\n",
    "x45 = np.linspace(0, 1, 2)\n",
    "\n",
    "plt.plot(x45, x45, color=\"red\", linestyle=\"dashed\")\n",
    "plt.plot(fpr, tpr)\n",
    "\n",
    "plt.xlabel(\"Ratio positivo de 0\")\n",
    "plt.ylabel(\"Ratio positivo de 1\")\n",
    "plt.savefig(\"../figures/roc.pdf\")\n",
    "plt.show()"
   ]
  },
  {
   "attachments": {},
   "cell_type": "markdown",
   "metadata": {},
   "source": [
    "### Referencias:\n",
    "* https://medium.com/analytics-vidhya/logistic-regression-using-python-a5044843a504\n",
    "* https://machinelearningmastery.com/roc-curves-and-precision-recall-curves-for-classification-in-python/"
   ]
  }
 ],
 "metadata": {
  "kernelspec": {
   "display_name": "base",
   "language": "python",
   "name": "python3"
  },
  "language_info": {
   "codemirror_mode": {
    "name": "ipython",
    "version": 3
   },
   "file_extension": ".py",
   "mimetype": "text/x-python",
   "name": "python",
   "nbconvert_exporter": "python",
   "pygments_lexer": "ipython3",
   "version": "3.9.13"
  },
  "orig_nbformat": 4,
  "vscode": {
   "interpreter": {
    "hash": "a077222d77dfe082b8f1dd562ad70e458ac2ab76993a0b248ab0476e32e9e8dd"
   }
  }
 },
 "nbformat": 4,
 "nbformat_minor": 2
}
