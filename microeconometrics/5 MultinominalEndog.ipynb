{
 "cells": [
  {
   "attachments": {},
   "cell_type": "markdown",
   "metadata": {},
   "source": [
    "## Variable dependiente Multinomial\n",
    "Cuando se tiene como endogena a una variable categorica, pero no binaria. La opcion mas adecuada es estimarse por un Logit no Ordenado o un Logit Ordenado. Esto dependera de si las categorias cuentan con alguna jerarquia"
   ]
  },
  {
   "cell_type": "code",
   "execution_count": 1,
   "metadata": {},
   "outputs": [],
   "source": [
    "import pandas as pd\n",
    "import numpy as np\n",
    "import matplotlib.pyplot as plt\n",
    "\n",
    "import statsmodels.api as sm\n",
    "import statsmodels.formula.api as smf\n",
    "from statsmodels.miscmodels.ordinal_model import OrderedModel"
   ]
  },
  {
   "attachments": {},
   "cell_type": "markdown",
   "metadata": {},
   "source": [
    "### Logit Multinomial No Ordenado\n",
    "Se usara la base de datos de la eleccion de una rama ocupacional `prog` dependiendo del estatus socioeconomico `ses` y del puntaje de lectura `write`, entre otros"
   ]
  },
  {
   "cell_type": "code",
   "execution_count": 2,
   "metadata": {},
   "outputs": [
    {
     "data": {
      "text/html": [
       "<div>\n",
       "<style scoped>\n",
       "    .dataframe tbody tr th:only-of-type {\n",
       "        vertical-align: middle;\n",
       "    }\n",
       "\n",
       "    .dataframe tbody tr th {\n",
       "        vertical-align: top;\n",
       "    }\n",
       "\n",
       "    .dataframe thead th {\n",
       "        text-align: right;\n",
       "    }\n",
       "</style>\n",
       "<table border=\"1\" class=\"dataframe\">\n",
       "  <thead>\n",
       "    <tr style=\"text-align: right;\">\n",
       "      <th></th>\n",
       "      <th>id</th>\n",
       "      <th>genr</th>\n",
       "      <th>ses</th>\n",
       "      <th>schtyp</th>\n",
       "      <th>prog</th>\n",
       "      <th>read</th>\n",
       "      <th>write</th>\n",
       "      <th>math</th>\n",
       "      <th>science</th>\n",
       "      <th>socst</th>\n",
       "      <th>honors</th>\n",
       "      <th>awards</th>\n",
       "      <th>cid</th>\n",
       "      <th>female</th>\n",
       "    </tr>\n",
       "  </thead>\n",
       "  <tbody>\n",
       "    <tr>\n",
       "      <th>0</th>\n",
       "      <td>45.0</td>\n",
       "      <td>female</td>\n",
       "      <td>low</td>\n",
       "      <td>public</td>\n",
       "      <td>vocation</td>\n",
       "      <td>34.0</td>\n",
       "      <td>35.0</td>\n",
       "      <td>41.0</td>\n",
       "      <td>29.0</td>\n",
       "      <td>26.0</td>\n",
       "      <td>not enrolled</td>\n",
       "      <td>0.0</td>\n",
       "      <td>1</td>\n",
       "      <td>1</td>\n",
       "    </tr>\n",
       "    <tr>\n",
       "      <th>1</th>\n",
       "      <td>108.0</td>\n",
       "      <td>male</td>\n",
       "      <td>middle</td>\n",
       "      <td>public</td>\n",
       "      <td>general</td>\n",
       "      <td>34.0</td>\n",
       "      <td>33.0</td>\n",
       "      <td>41.0</td>\n",
       "      <td>36.0</td>\n",
       "      <td>36.0</td>\n",
       "      <td>not enrolled</td>\n",
       "      <td>0.0</td>\n",
       "      <td>1</td>\n",
       "      <td>0</td>\n",
       "    </tr>\n",
       "    <tr>\n",
       "      <th>2</th>\n",
       "      <td>15.0</td>\n",
       "      <td>male</td>\n",
       "      <td>high</td>\n",
       "      <td>public</td>\n",
       "      <td>vocation</td>\n",
       "      <td>39.0</td>\n",
       "      <td>39.0</td>\n",
       "      <td>44.0</td>\n",
       "      <td>26.0</td>\n",
       "      <td>42.0</td>\n",
       "      <td>not enrolled</td>\n",
       "      <td>0.0</td>\n",
       "      <td>1</td>\n",
       "      <td>0</td>\n",
       "    </tr>\n",
       "    <tr>\n",
       "      <th>3</th>\n",
       "      <td>67.0</td>\n",
       "      <td>male</td>\n",
       "      <td>low</td>\n",
       "      <td>public</td>\n",
       "      <td>vocation</td>\n",
       "      <td>37.0</td>\n",
       "      <td>37.0</td>\n",
       "      <td>42.0</td>\n",
       "      <td>33.0</td>\n",
       "      <td>32.0</td>\n",
       "      <td>not enrolled</td>\n",
       "      <td>0.0</td>\n",
       "      <td>1</td>\n",
       "      <td>0</td>\n",
       "    </tr>\n",
       "    <tr>\n",
       "      <th>4</th>\n",
       "      <td>153.0</td>\n",
       "      <td>male</td>\n",
       "      <td>middle</td>\n",
       "      <td>public</td>\n",
       "      <td>vocation</td>\n",
       "      <td>39.0</td>\n",
       "      <td>31.0</td>\n",
       "      <td>40.0</td>\n",
       "      <td>39.0</td>\n",
       "      <td>51.0</td>\n",
       "      <td>not enrolled</td>\n",
       "      <td>0.0</td>\n",
       "      <td>1</td>\n",
       "      <td>0</td>\n",
       "    </tr>\n",
       "  </tbody>\n",
       "</table>\n",
       "</div>"
      ],
      "text/plain": [
       "      id    genr     ses  schtyp      prog  read  write  math  science  socst  \\\n",
       "0   45.0  female     low  public  vocation  34.0   35.0  41.0     29.0   26.0   \n",
       "1  108.0    male  middle  public   general  34.0   33.0  41.0     36.0   36.0   \n",
       "2   15.0    male    high  public  vocation  39.0   39.0  44.0     26.0   42.0   \n",
       "3   67.0    male     low  public  vocation  37.0   37.0  42.0     33.0   32.0   \n",
       "4  153.0    male  middle  public  vocation  39.0   31.0  40.0     39.0   51.0   \n",
       "\n",
       "         honors  awards  cid  female  \n",
       "0  not enrolled     0.0    1       1  \n",
       "1  not enrolled     0.0    1       0  \n",
       "2  not enrolled     0.0    1       0  \n",
       "3  not enrolled     0.0    1       0  \n",
       "4  not enrolled     0.0    1       0  "
      ]
     },
     "execution_count": 2,
     "metadata": {},
     "output_type": "execute_result"
    }
   ],
   "source": [
    "dta = pd.read_stata(\"https://stats.idre.ucla.edu/stat/data/hsbdemo.dta\")\n",
    "dta.to_csv(\"./data/hsbdemo.csv\")\n",
    "\n",
    "# Female\n",
    "dta.rename({\"female\": \"genr\"}, axis=1, inplace=True)\n",
    "dta[\"female\"] = 0\n",
    "dta.loc[dta[\"genr\"] == \"female\", \"female\"] = 1 \n",
    "\n",
    "# Ajustando\n",
    "X = dta[[\"female\", \"ses\", \"read\", \"write\"]]\n",
    "y = dta[\"prog\"]\n",
    "\n",
    "dta.head()"
   ]
  },
  {
   "cell_type": "code",
   "execution_count": 3,
   "metadata": {},
   "outputs": [
    {
     "data": {
      "text/plain": [
       "id          float32\n",
       "genr       category\n",
       "ses        category\n",
       "schtyp     category\n",
       "prog       category\n",
       "read        float32\n",
       "write       float32\n",
       "math        float32\n",
       "science     float32\n",
       "socst       float32\n",
       "honors     category\n",
       "awards      float32\n",
       "cid           int16\n",
       "female        int64\n",
       "dtype: object"
      ]
     },
     "execution_count": 3,
     "metadata": {},
     "output_type": "execute_result"
    }
   ],
   "source": [
    "dta.dtypes"
   ]
  },
  {
   "cell_type": "code",
   "execution_count": 4,
   "metadata": {},
   "outputs": [
    {
     "data": {
      "text/plain": [
       "academic    105\n",
       "vocation     50\n",
       "general      45\n",
       "Name: prog, dtype: int64"
      ]
     },
     "execution_count": 4,
     "metadata": {},
     "output_type": "execute_result"
    }
   ],
   "source": [
    "dta[\"prog\"].value_counts()"
   ]
  },
  {
   "cell_type": "code",
   "execution_count": 5,
   "metadata": {},
   "outputs": [
    {
     "data": {
      "text/html": [
       "<div>\n",
       "<style scoped>\n",
       "    .dataframe tbody tr th:only-of-type {\n",
       "        vertical-align: middle;\n",
       "    }\n",
       "\n",
       "    .dataframe tbody tr th {\n",
       "        vertical-align: top;\n",
       "    }\n",
       "\n",
       "    .dataframe thead th {\n",
       "        text-align: right;\n",
       "    }\n",
       "</style>\n",
       "<table border=\"1\" class=\"dataframe\">\n",
       "  <thead>\n",
       "    <tr style=\"text-align: right;\">\n",
       "      <th>prog</th>\n",
       "      <th>general</th>\n",
       "      <th>academic</th>\n",
       "      <th>vocation</th>\n",
       "    </tr>\n",
       "    <tr>\n",
       "      <th>ses</th>\n",
       "      <th></th>\n",
       "      <th></th>\n",
       "      <th></th>\n",
       "    </tr>\n",
       "  </thead>\n",
       "  <tbody>\n",
       "    <tr>\n",
       "      <th>low</th>\n",
       "      <td>16</td>\n",
       "      <td>19</td>\n",
       "      <td>12</td>\n",
       "    </tr>\n",
       "    <tr>\n",
       "      <th>middle</th>\n",
       "      <td>20</td>\n",
       "      <td>44</td>\n",
       "      <td>31</td>\n",
       "    </tr>\n",
       "    <tr>\n",
       "      <th>high</th>\n",
       "      <td>9</td>\n",
       "      <td>42</td>\n",
       "      <td>7</td>\n",
       "    </tr>\n",
       "  </tbody>\n",
       "</table>\n",
       "</div>"
      ],
      "text/plain": [
       "prog    general  academic  vocation\n",
       "ses                                \n",
       "low          16        19        12\n",
       "middle       20        44        31\n",
       "high          9        42         7"
      ]
     },
     "execution_count": 5,
     "metadata": {},
     "output_type": "execute_result"
    }
   ],
   "source": [
    "pd.pivot_table(dta, index=\"ses\", values=\"id\", columns=\"prog\", aggfunc=\"count\")"
   ]
  },
  {
   "cell_type": "code",
   "execution_count": 6,
   "metadata": {},
   "outputs": [],
   "source": [
    "# Reemplazando por valores\n",
    "dta[\"ses\"] = dta[\"ses\"].cat.codes\n",
    "dta[\"prog\"] = dta[\"prog\"].cat.codes"
   ]
  },
  {
   "cell_type": "code",
   "execution_count": 7,
   "metadata": {},
   "outputs": [
    {
     "name": "stdout",
     "output_type": "stream",
     "text": [
      "Optimization terminated successfully.\n",
      "         Current function value: 0.873627\n",
      "         Iterations 6\n",
      "                          MNLogit Regression Results                          \n",
      "==============================================================================\n",
      "Dep. Variable:                   prog   No. Observations:                  200\n",
      "Model:                        MNLogit   Df Residuals:                      188\n",
      "Method:                           MLE   Df Model:                           10\n",
      "Date:                Sun, 01 Jan 2023   Pseudo R-squ.:                  0.1439\n",
      "Time:                        20:28:52   Log-Likelihood:                -174.73\n",
      "converged:                       True   LL-Null:                       -204.10\n",
      "Covariance Type:            nonrobust   LLR p-value:                 6.263e-09\n",
      "===============================================================================\n",
      "     prog=1       coef    std err          z      P>|z|      [0.025      0.975]\n",
      "-------------------------------------------------------------------------------\n",
      "Intercept      -3.7529      1.285     -2.921      0.003      -6.271      -1.234\n",
      "C(ses)[T.1]     0.4387      0.456      0.962      0.336      -0.456       1.333\n",
      "C(ses)[T.2]     1.0038      0.532      1.886      0.059      -0.040       2.047\n",
      "female          0.1274      0.414      0.308      0.758      -0.684       0.938\n",
      "read            0.0473      0.025      1.907      0.057      -0.001       0.096\n",
      "write           0.0286      0.027      1.065      0.287      -0.024       0.081\n",
      "-------------------------------------------------------------------------------\n",
      "     prog=2       coef    std err          z      P>|z|      [0.025      0.975]\n",
      "-------------------------------------------------------------------------------\n",
      "Intercept       3.0658      1.374      2.232      0.026       0.373       5.758\n",
      "C(ses)[T.1]     0.9687      0.506      1.915      0.055      -0.023       1.960\n",
      "C(ses)[T.2]     0.3800      0.668      0.569      0.570      -0.930       1.689\n",
      "female          0.4380      0.477      0.919      0.358      -0.496       1.372\n",
      "read           -0.0238      0.030     -0.801      0.423      -0.082       0.034\n",
      "write          -0.0538      0.030     -1.807      0.071      -0.112       0.005\n",
      "===============================================================================\n"
     ]
    }
   ],
   "source": [
    "model = smf.mnlogit(\"prog ~ female + C(ses) + read + write\", data=dta)\n",
    "results = model.fit()\n",
    "\n",
    "print(results.summary())"
   ]
  },
  {
   "cell_type": "code",
   "execution_count": 8,
   "metadata": {},
   "outputs": [
    {
     "name": "stdout",
     "output_type": "stream",
     "text": [
      "       MNLogit Marginal Effects      \n",
      "=====================================\n",
      "Dep. Variable:                   prog\n",
      "Method:                          dydx\n",
      "At:                              mean\n",
      "===============================================================================\n",
      "     prog=0      dy/dx    std err          z      P>|z|      [0.025      0.975]\n",
      "-------------------------------------------------------------------------------\n",
      "C(ses)[T.1]    -0.1084      0.077     -1.403      0.161      -0.260       0.043\n",
      "C(ses)[T.2]    -0.1561      0.092     -1.692      0.091      -0.337       0.025\n",
      "female         -0.0393      0.072     -0.549      0.583      -0.180       0.101\n",
      "read           -0.0053      0.004     -1.231      0.218      -0.014       0.003\n",
      "write          -0.0012      0.005     -0.264      0.792      -0.010       0.008\n",
      "-------------------------------------------------------------------------------\n",
      "     prog=1      dy/dx    std err          z      P>|z|      [0.025      0.975]\n",
      "-------------------------------------------------------------------------------\n",
      "C(ses)[T.1]     0.0012      0.099      0.012      0.991      -0.193       0.195\n",
      "C(ses)[T.2]     0.2063      0.115      1.787      0.074      -0.020       0.433\n",
      "female         -0.0170      0.088     -0.195      0.846      -0.189       0.155\n",
      "read            0.0143      0.005      2.714      0.007       0.004       0.025\n",
      "write           0.0130      0.006      2.301      0.021       0.002       0.024\n",
      "-------------------------------------------------------------------------------\n",
      "     prog=2      dy/dx    std err          z      P>|z|      [0.025      0.975]\n",
      "-------------------------------------------------------------------------------\n",
      "C(ses)[T.1]     0.1072      0.072      1.485      0.138      -0.034       0.249\n",
      "C(ses)[T.2]    -0.0502      0.094     -0.536      0.592      -0.233       0.133\n",
      "female          0.0563      0.066      0.855      0.392      -0.073       0.185\n",
      "read           -0.0091      0.004     -2.273      0.023      -0.017      -0.001\n",
      "write          -0.0118      0.004     -2.871      0.004      -0.020      -0.004\n",
      "===============================================================================\n"
     ]
    }
   ],
   "source": [
    "MEM = results.get_margeff(at=\"mean\", method=\"dydx\")\n",
    "\n",
    "print(MEM.summary())"
   ]
  },
  {
   "attachments": {},
   "cell_type": "markdown",
   "metadata": {},
   "source": [
    "### Logit Multinomial Ordenado\n",
    "Se usara datos de la probabilidad de aplicar a una universidad `apply`. Las exogenas son si al menos uno de los padres es graduado `pared`, estudio en colegio publico `public` y promedio de notas `gpa`"
   ]
  },
  {
   "cell_type": "code",
   "execution_count": 9,
   "metadata": {},
   "outputs": [
    {
     "data": {
      "text/html": [
       "<div>\n",
       "<style scoped>\n",
       "    .dataframe tbody tr th:only-of-type {\n",
       "        vertical-align: middle;\n",
       "    }\n",
       "\n",
       "    .dataframe tbody tr th {\n",
       "        vertical-align: top;\n",
       "    }\n",
       "\n",
       "    .dataframe thead th {\n",
       "        text-align: right;\n",
       "    }\n",
       "</style>\n",
       "<table border=\"1\" class=\"dataframe\">\n",
       "  <thead>\n",
       "    <tr style=\"text-align: right;\">\n",
       "      <th></th>\n",
       "      <th>apply</th>\n",
       "      <th>pared</th>\n",
       "      <th>public</th>\n",
       "      <th>gpa</th>\n",
       "    </tr>\n",
       "  </thead>\n",
       "  <tbody>\n",
       "    <tr>\n",
       "      <th>0</th>\n",
       "      <td>very likely</td>\n",
       "      <td>0</td>\n",
       "      <td>0</td>\n",
       "      <td>3.26</td>\n",
       "    </tr>\n",
       "    <tr>\n",
       "      <th>1</th>\n",
       "      <td>somewhat likely</td>\n",
       "      <td>1</td>\n",
       "      <td>0</td>\n",
       "      <td>3.21</td>\n",
       "    </tr>\n",
       "    <tr>\n",
       "      <th>2</th>\n",
       "      <td>unlikely</td>\n",
       "      <td>1</td>\n",
       "      <td>1</td>\n",
       "      <td>3.94</td>\n",
       "    </tr>\n",
       "    <tr>\n",
       "      <th>3</th>\n",
       "      <td>somewhat likely</td>\n",
       "      <td>0</td>\n",
       "      <td>0</td>\n",
       "      <td>2.81</td>\n",
       "    </tr>\n",
       "    <tr>\n",
       "      <th>4</th>\n",
       "      <td>somewhat likely</td>\n",
       "      <td>0</td>\n",
       "      <td>0</td>\n",
       "      <td>2.53</td>\n",
       "    </tr>\n",
       "  </tbody>\n",
       "</table>\n",
       "</div>"
      ],
      "text/plain": [
       "             apply  pared  public   gpa\n",
       "0      very likely      0       0  3.26\n",
       "1  somewhat likely      1       0  3.21\n",
       "2         unlikely      1       1  3.94\n",
       "3  somewhat likely      0       0  2.81\n",
       "4  somewhat likely      0       0  2.53"
      ]
     },
     "execution_count": 9,
     "metadata": {},
     "output_type": "execute_result"
    }
   ],
   "source": [
    "dta = pd.read_stata(\"https://stats.idre.ucla.edu/stat/data/ologit.dta\")\n",
    "dta.to_csv(\"./data/ologit.csv\")\n",
    "\n",
    "X = dta[[\"pared\", \"public\", \"gpa\"]]\n",
    "y = dta[\"apply\"].cat.codes\n",
    "\n",
    "dta.head()"
   ]
  },
  {
   "cell_type": "code",
   "execution_count": 10,
   "metadata": {},
   "outputs": [
    {
     "data": {
      "text/plain": [
       "apply     category\n",
       "pared         int8\n",
       "public        int8\n",
       "gpa        float32\n",
       "dtype: object"
      ]
     },
     "execution_count": 10,
     "metadata": {},
     "output_type": "execute_result"
    }
   ],
   "source": [
    "dta.dtypes"
   ]
  },
  {
   "cell_type": "code",
   "execution_count": 11,
   "metadata": {},
   "outputs": [
    {
     "data": {
      "text/plain": [
       "unlikely           220\n",
       "somewhat likely    140\n",
       "very likely         40\n",
       "Name: apply, dtype: int64"
      ]
     },
     "execution_count": 11,
     "metadata": {},
     "output_type": "execute_result"
    }
   ],
   "source": [
    "dta[\"apply\"].value_counts()"
   ]
  },
  {
   "cell_type": "code",
   "execution_count": 12,
   "metadata": {},
   "outputs": [
    {
     "name": "stdout",
     "output_type": "stream",
     "text": [
      "Optimization terminated successfully.\n",
      "         Current function value: 0.896869\n",
      "         Iterations: 361\n",
      "         Function evaluations: 573\n",
      "                             OrderedModel Results                             \n",
      "==============================================================================\n",
      "Dep. Variable:                      y   Log-Likelihood:                -358.75\n",
      "Model:                   OrderedModel   AIC:                             727.5\n",
      "Method:            Maximum Likelihood   BIC:                             747.5\n",
      "Date:                Sun, 01 Jan 2023                                         \n",
      "Time:                        20:28:53                                         \n",
      "No. Observations:                 400                                         \n",
      "Df Residuals:                     395                                         \n",
      "Df Model:                           5                                         \n",
      "==============================================================================\n",
      "                 coef    std err          z      P>|z|      [0.025      0.975]\n",
      "------------------------------------------------------------------------------\n",
      "pared          0.5981      0.158      3.789      0.000       0.289       0.908\n",
      "public         0.0102      0.173      0.059      0.953      -0.329       0.349\n",
      "gpa            0.3582      0.157      2.285      0.022       0.051       0.665\n",
      "0/1            1.2968      0.468      2.774      0.006       0.381       2.213\n",
      "1/2            0.1873      0.074      2.530      0.011       0.042       0.332\n",
      "==============================================================================\n"
     ]
    }
   ],
   "source": [
    "model = OrderedModel(y, X, dist=\"logit\")\n",
    "results = model.fit()\n",
    "\n",
    "print(results.summary())"
   ]
  },
  {
   "attachments": {},
   "cell_type": "markdown",
   "metadata": {},
   "source": [
    "### Referencias:\n",
    "* https://www.statsmodels.org/stable/generated/statsmodels.miscmodels.ordinal_model.OrderedModel.html#statsmodels.miscmodels.ordinal_model.OrderedModel\n",
    "* https://www.statsmodels.org/stable/generated/statsmodels.discrete.discrete_model.MNLogit.html#statsmodels.discrete.discrete_model.MNLogit"
   ]
  }
 ],
 "metadata": {
  "kernelspec": {
   "display_name": "base",
   "language": "python",
   "name": "python3"
  },
  "language_info": {
   "codemirror_mode": {
    "name": "ipython",
    "version": 3
   },
   "file_extension": ".py",
   "mimetype": "text/x-python",
   "name": "python",
   "nbconvert_exporter": "python",
   "pygments_lexer": "ipython3",
   "version": "3.9.13"
  },
  "orig_nbformat": 4,
  "vscode": {
   "interpreter": {
    "hash": "a077222d77dfe082b8f1dd562ad70e458ac2ab76993a0b248ab0476e32e9e8dd"
   }
  }
 },
 "nbformat": 4,
 "nbformat_minor": 2
}
