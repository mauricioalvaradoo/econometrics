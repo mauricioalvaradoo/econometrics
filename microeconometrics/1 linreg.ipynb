{
 "cells": [
  {
   "attachments": {},
   "cell_type": "markdown",
   "metadata": {},
   "source": [
    "## Estimacion de modelo de regresion lineal mediante OLS\n",
    "\n",
    "Se puede estimar de manera univariada y tambien multivariada. El modelo clasico tiene `seis supuestos`:\n",
    "1. Coeficientes deben ser lineal en parametros\n",
    "2. Condicional del error/residuo debe ser igual a cero. Se cumple si no hay endogeneidad.\n",
    "3. Perturbaciones no esfericas: no existe heterocedasticidad ni autocorrelacion\n",
    "4. La variable X se mantiene fija en muestras repetidas\n",
    "5. Errores se distribuyen de manera normal\n",
    "6. Numero de observaciones debe ser mayor al numero de variables \n",
    "\n",
    "Para el estudio se usara un set de juguete: https://www.statsmodels.org/dev/datasets/"
   ]
  },
  {
   "cell_type": "code",
   "execution_count": 1,
   "metadata": {},
   "outputs": [],
   "source": [
    "import pandas as pd\n",
    "import numpy as np\n",
    "import matplotlib.pyplot as plt\n",
    "import seaborn as sns\n",
    "import statsmodels.api as sm"
   ]
  },
  {
   "cell_type": "code",
   "execution_count": 2,
   "metadata": {},
   "outputs": [
    {
     "data": {
      "text/html": [
       "<div>\n",
       "<style scoped>\n",
       "    .dataframe tbody tr th:only-of-type {\n",
       "        vertical-align: middle;\n",
       "    }\n",
       "\n",
       "    .dataframe tbody tr th {\n",
       "        vertical-align: top;\n",
       "    }\n",
       "\n",
       "    .dataframe thead th {\n",
       "        text-align: right;\n",
       "    }\n",
       "</style>\n",
       "<table border=\"1\" class=\"dataframe\">\n",
       "  <thead>\n",
       "    <tr style=\"text-align: right;\">\n",
       "      <th></th>\n",
       "      <th>make</th>\n",
       "      <th>price</th>\n",
       "      <th>mpg</th>\n",
       "      <th>rep78</th>\n",
       "      <th>headroom</th>\n",
       "      <th>trunk</th>\n",
       "      <th>weight</th>\n",
       "      <th>length</th>\n",
       "      <th>turn</th>\n",
       "      <th>displacement</th>\n",
       "      <th>gear_ratio</th>\n",
       "      <th>foreign</th>\n",
       "      <th>lnprice</th>\n",
       "    </tr>\n",
       "  </thead>\n",
       "  <tbody>\n",
       "    <tr>\n",
       "      <th>0</th>\n",
       "      <td>AMC Concord</td>\n",
       "      <td>4099</td>\n",
       "      <td>22</td>\n",
       "      <td>3.0</td>\n",
       "      <td>2.5</td>\n",
       "      <td>11</td>\n",
       "      <td>2930</td>\n",
       "      <td>186</td>\n",
       "      <td>40</td>\n",
       "      <td>121</td>\n",
       "      <td>3.58</td>\n",
       "      <td>Domestic</td>\n",
       "      <td>8.318499</td>\n",
       "    </tr>\n",
       "    <tr>\n",
       "      <th>1</th>\n",
       "      <td>AMC Pacer</td>\n",
       "      <td>4749</td>\n",
       "      <td>17</td>\n",
       "      <td>3.0</td>\n",
       "      <td>3.0</td>\n",
       "      <td>11</td>\n",
       "      <td>3350</td>\n",
       "      <td>173</td>\n",
       "      <td>40</td>\n",
       "      <td>258</td>\n",
       "      <td>2.53</td>\n",
       "      <td>Domestic</td>\n",
       "      <td>8.465690</td>\n",
       "    </tr>\n",
       "    <tr>\n",
       "      <th>2</th>\n",
       "      <td>AMC Spirit</td>\n",
       "      <td>3799</td>\n",
       "      <td>22</td>\n",
       "      <td>NaN</td>\n",
       "      <td>3.0</td>\n",
       "      <td>12</td>\n",
       "      <td>2640</td>\n",
       "      <td>168</td>\n",
       "      <td>35</td>\n",
       "      <td>121</td>\n",
       "      <td>3.08</td>\n",
       "      <td>Domestic</td>\n",
       "      <td>8.242494</td>\n",
       "    </tr>\n",
       "    <tr>\n",
       "      <th>3</th>\n",
       "      <td>Buick Century</td>\n",
       "      <td>4816</td>\n",
       "      <td>20</td>\n",
       "      <td>3.0</td>\n",
       "      <td>4.5</td>\n",
       "      <td>16</td>\n",
       "      <td>3250</td>\n",
       "      <td>196</td>\n",
       "      <td>40</td>\n",
       "      <td>196</td>\n",
       "      <td>2.93</td>\n",
       "      <td>Domestic</td>\n",
       "      <td>8.479699</td>\n",
       "    </tr>\n",
       "    <tr>\n",
       "      <th>4</th>\n",
       "      <td>Buick Electra</td>\n",
       "      <td>7827</td>\n",
       "      <td>15</td>\n",
       "      <td>4.0</td>\n",
       "      <td>4.0</td>\n",
       "      <td>20</td>\n",
       "      <td>4080</td>\n",
       "      <td>222</td>\n",
       "      <td>43</td>\n",
       "      <td>350</td>\n",
       "      <td>2.41</td>\n",
       "      <td>Domestic</td>\n",
       "      <td>8.965335</td>\n",
       "    </tr>\n",
       "  </tbody>\n",
       "</table>\n",
       "</div>"
      ],
      "text/plain": [
       "            make  price  mpg  rep78  headroom  trunk  weight  length  turn  \\\n",
       "0    AMC Concord   4099   22    3.0       2.5     11    2930     186    40   \n",
       "1      AMC Pacer   4749   17    3.0       3.0     11    3350     173    40   \n",
       "2     AMC Spirit   3799   22    NaN       3.0     12    2640     168    35   \n",
       "3  Buick Century   4816   20    3.0       4.5     16    3250     196    40   \n",
       "4  Buick Electra   7827   15    4.0       4.0     20    4080     222    43   \n",
       "\n",
       "   displacement  gear_ratio   foreign   lnprice  \n",
       "0           121        3.58  Domestic  8.318499  \n",
       "1           258        2.53  Domestic  8.465690  \n",
       "2           121        3.08  Domestic  8.242494  \n",
       "3           196        2.93  Domestic  8.479699  \n",
       "4           350        2.41  Domestic  8.965335  "
      ]
     },
     "execution_count": 2,
     "metadata": {},
     "output_type": "execute_result"
    }
   ],
   "source": [
    "dta = sm.datasets.webuse(\"auto\")\n",
    "dta.to_csv(\"./data/auto.csv\")\n",
    "\n",
    "dta[\"lnprice\"] = np.log(dta[\"price\"])\n",
    "dta.head()"
   ]
  },
  {
   "cell_type": "code",
   "execution_count": 3,
   "metadata": {},
   "outputs": [
    {
     "data": {
      "text/plain": [
       "(74, 13)"
      ]
     },
     "execution_count": 3,
     "metadata": {},
     "output_type": "execute_result"
    }
   ],
   "source": [
    "dta.shape"
   ]
  },
  {
   "attachments": {},
   "cell_type": "markdown",
   "metadata": {},
   "source": [
    "Primero es importante observar que tipo de realizacion podemos encontrar entre una variable como `mpg` y el `price`"
   ]
  },
  {
   "cell_type": "code",
   "execution_count": 4,
   "metadata": {},
   "outputs": [
    {
     "data": {
      "image/png": "[encoded data removed]",
      "text/plain": [
       "<Figure size 800x600 with 1 Axes>"
      ]
     },
     "metadata": {},
     "output_type": "display_data"
    }
   ],
   "source": [
    "x=dta[\"mpg\"] ; y=dta[\"lnprice\"] ; fit=np.polyfit(x, y, deg=1)\n",
    "\n",
    "\n",
    "plt.figure(figsize=(8,6))\n",
    "\n",
    "# Graficos\n",
    "plt.scatter(x=\"mpg\", y=\"lnprice\", data=dta, color=\"blue\")\n",
    "plt.plot(x, fit[0]*x + fit[1], color=\"red\")\n",
    "\n",
    "# Titulo/ejes\n",
    "plt.title(\"Relacion entre mpg-precio\", fontsize=14)\n",
    "plt.xlabel(\"mpg\", fontsize=12)\n",
    "plt.ylabel(\"price (log)\", fontsize=12)\n",
    "\n",
    "# Guardado\n",
    "plt.tight_layout()\n",
    "plt.savefig(\"./figures/mpg-price.pdf\")\n",
    "plt.show()"
   ]
  },
  {
   "attachments": {},
   "cell_type": "markdown",
   "metadata": {},
   "source": [
    "### Modelo lineal univariado"
   ]
  },
  {
   "cell_type": "code",
   "execution_count": 5,
   "metadata": {},
   "outputs": [
    {
     "data": {
      "text/plain": [
       "0    8.318499\n",
       "1    8.465690\n",
       "2    8.242494\n",
       "3    8.479699\n",
       "4    8.965335\n",
       "Name: lnprice, dtype: float32"
      ]
     },
     "execution_count": 5,
     "metadata": {},
     "output_type": "execute_result"
    }
   ],
   "source": [
    "X = dta[[\"mpg\"]]\n",
    "X = sm.add_constant(X)\n",
    "\n",
    "y = dta[\"lnprice\"]\n",
    "y[0:5]"
   ]
  },
  {
   "cell_type": "code",
   "execution_count": 6,
   "metadata": {},
   "outputs": [
    {
     "name": "stdout",
     "output_type": "stream",
     "text": [
      "                            OLS Regression Results                            \n",
      "==============================================================================\n",
      "Dep. Variable:                lnprice   R-squared:                       0.241\n",
      "Model:                            OLS   Adj. R-squared:                  0.231\n",
      "Method:                 Least Squares   F-statistic:                     22.87\n",
      "Date:                Sun, 01 Jan 2023   Prob (F-statistic):           8.93e-06\n",
      "Time:                        20:28:05   Log-Likelihood:                -25.011\n",
      "No. Observations:                  74   AIC:                             54.02\n",
      "Df Residuals:                      72   BIC:                             58.63\n",
      "Df Model:                           1                                         \n",
      "Covariance Type:            nonrobust                                         \n",
      "==============================================================================\n",
      "                 coef    std err          t      P>|t|      [0.025      0.975]\n",
      "------------------------------------------------------------------------------\n",
      "const          9.3493      0.153     60.912      0.000       9.043       9.655\n",
      "mpg           -0.0333      0.007     -4.782      0.000      -0.047      -0.019\n",
      "==============================================================================\n",
      "Omnibus:                        7.676   Durbin-Watson:                   1.539\n",
      "Prob(Omnibus):                  0.022   Jarque-Bera (JB):                7.937\n",
      "Skew:                           0.801   Prob(JB):                       0.0189\n",
      "Kurtosis:                       2.918   Cond. No.                         84.8\n",
      "==============================================================================\n",
      "\n",
      "Notes:\n",
      "[1] Standard Errors assume that the covariance matrix of the errors is correctly specified.\n"
     ]
    }
   ],
   "source": [
    "model = sm.OLS(y, X)\n",
    "results = model.fit()\n",
    "\n",
    "print(results.summary())"
   ]
  },
  {
   "attachments": {},
   "cell_type": "markdown",
   "metadata": {},
   "source": [
    "Algunos estadisticos:"
   ]
  },
  {
   "cell_type": "code",
   "execution_count": 7,
   "metadata": {},
   "outputs": [
    {
     "name": "stdout",
     "output_type": "stream",
     "text": [
      "R2:  0.24108107891840913\n",
      "R2 ajustado:  0.2305405383478315\n",
      "MSE:  0.11830212338244678\n"
     ]
    }
   ],
   "source": [
    "print(\"R2: \", results.rsquared)\n",
    "print(\"R2 ajustado: \", results.rsquared_adj)\n",
    "print(\"MSE: \", results.mse_resid)"
   ]
  },
  {
   "cell_type": "code",
   "execution_count": 8,
   "metadata": {},
   "outputs": [
    {
     "name": "stdout",
     "output_type": "stream",
     "text": [
      "AIC:  54.021\n",
      "BIC:  58.63\n"
     ]
    }
   ],
   "source": [
    "print(\"AIC: \", np.round(results.aic, 3))\n",
    "print(\"BIC: \", np.round(results.bic, 3))"
   ]
  },
  {
   "cell_type": "code",
   "execution_count": 9,
   "metadata": {},
   "outputs": [
    {
     "name": "stdout",
     "output_type": "stream",
     "text": [
      "T-Estadisticos:  const    61.0\n",
      "mpg      -5.0\n",
      "dtype: float64 5\n",
      "\n",
      "P-values:  const    0.0\n",
      "mpg      0.0\n",
      "dtype: float64 5\n"
     ]
    }
   ],
   "source": [
    "print(\"T-Estadisticos: \", np.round(results.tvalues), 5)\n",
    "print(\"\")\n",
    "print(\"P-values: \", np.round(results.pvalues), 5)"
   ]
  },
  {
   "attachments": {},
   "cell_type": "markdown",
   "metadata": {},
   "source": [
    "Dado el modelo: $$y = \\alpha_0 + \\alpha_1 X + \\epsilon$$\n",
    "\n",
    "Tras estimacion, se consigue: $$\\hat{y} = \\hat{\\alpha_0} + \\hat{\\alpha_1}\\hat{X}$$\n",
    "\n",
    "Estos resultados se pueden conseguir mediante dos metodos:\n",
    "1. Los parametros mediante `params`\n",
    "2. La endog estimada mediante `predict()`"
   ]
  },
  {
   "cell_type": "code",
   "execution_count": 10,
   "metadata": {},
   "outputs": [
    {
     "name": "stdout",
     "output_type": "stream",
     "text": [
      "Parameters:  const    9.349342\n",
      "mpg     -0.033277\n",
      "dtype: float64\n"
     ]
    }
   ],
   "source": [
    "print(\"Parameters: \", results.params)"
   ]
  },
  {
   "cell_type": "code",
   "execution_count": 11,
   "metadata": {},
   "outputs": [
    {
     "name": "stdout",
     "output_type": "stream",
     "text": [
      "R2:  [8.61724872 8.78363359 8.61724872 8.68380267 8.85018754 8.75035662\n",
      " 8.48414082 8.68380267 8.81691057 8.71707964 8.88346451 8.88346451\n",
      " 8.65052569 8.3843099  8.81691057 8.61724872 8.61724872 8.55069477\n",
      " 8.71707964 8.35103292 8.75035662 8.81691057 8.78363359 8.41758687\n",
      " 8.65052569 8.95001846 8.95001846 8.88346451 8.61724872 8.88346451\n",
      " 8.85018754 8.75035662 8.88346451 8.68380267 8.65052569 8.71707964\n",
      " 8.71707964 8.75035662 8.71707964 8.55069477 8.81691057 8.41758687\n",
      " 8.21792503 8.5174178  8.48414082 8.75035662 8.75035662 8.75035662\n",
      " 8.71707964 8.71707964 8.71707964 8.55069477 8.78363359 8.58397174\n",
      " 8.5174178  8.58397174 8.18464805 8.55069477 8.65052569 8.65052569\n",
      " 8.5174178  8.41758687 8.35103292 8.88346451 8.48414082 8.18464805\n",
      " 8.75035662 8.31775595 8.75035662 8.58397174 7.98498621 8.5174178\n",
      " 8.5174178  8.78363359]\n"
     ]
    }
   ],
   "source": [
    "y_hat = results.predict()\n",
    "\n",
    "print(\"R2: \", y_hat)"
   ]
  },
  {
   "cell_type": "code",
   "execution_count": 12,
   "metadata": {},
   "outputs": [
    {
     "data": {
      "image/png": "[encoded data removed]",
      "text/plain": [
       "<Figure size 800x600 with 1 Axes>"
      ]
     },
     "metadata": {},
     "output_type": "display_data"
    }
   ],
   "source": [
    "plt.figure(figsize=(8,6))\n",
    "\n",
    "# Graficos\n",
    "plt.scatter(x=\"mpg\", y=\"lnprice\", data=dta, color=\"blue\")\n",
    "plt.plot(x, y_hat, color=\"red\")\n",
    "\n",
    "# Titulo/ejes\n",
    "plt.title(\"Relacion entre mpg-precio\", fontsize=14)\n",
    "plt.xlabel(\"mpg\", fontsize=12)\n",
    "plt.ylabel(\"price (log)\", fontsize=12)\n",
    "\n",
    "# Guardado\n",
    "plt.tight_layout()\n",
    "plt.savefig(\"./figures/mpg-price.pdf\")\n",
    "plt.show()"
   ]
  },
  {
   "attachments": {},
   "cell_type": "markdown",
   "metadata": {},
   "source": [
    "Se puede conseguir tambien la matriz de varianzas y covarianzas de los coeficientes:"
   ]
  },
  {
   "cell_type": "code",
   "execution_count": 13,
   "metadata": {},
   "outputs": [
    {
     "data": {
      "text/html": [
       "<div>\n",
       "<style scoped>\n",
       "    .dataframe tbody tr th:only-of-type {\n",
       "        vertical-align: middle;\n",
       "    }\n",
       "\n",
       "    .dataframe tbody tr th {\n",
       "        vertical-align: top;\n",
       "    }\n",
       "\n",
       "    .dataframe thead th {\n",
       "        text-align: right;\n",
       "    }\n",
       "</style>\n",
       "<table border=\"1\" class=\"dataframe\">\n",
       "  <thead>\n",
       "    <tr style=\"text-align: right;\">\n",
       "      <th></th>\n",
       "      <th>const</th>\n",
       "      <th>mpg</th>\n",
       "    </tr>\n",
       "  </thead>\n",
       "  <tbody>\n",
       "    <tr>\n",
       "      <th>const</th>\n",
       "      <td>0.199142</td>\n",
       "      <td>-0.008716</td>\n",
       "    </tr>\n",
       "    <tr>\n",
       "      <th>mpg</th>\n",
       "      <td>-0.008716</td>\n",
       "      <td>0.000409</td>\n",
       "    </tr>\n",
       "  </tbody>\n",
       "</table>\n",
       "</div>"
      ],
      "text/plain": [
       "          const       mpg\n",
       "const  0.199142 -0.008716\n",
       "mpg   -0.008716  0.000409"
      ]
     },
     "execution_count": 13,
     "metadata": {},
     "output_type": "execute_result"
    }
   ],
   "source": [
    "results.normalized_cov_params"
   ]
  },
  {
   "attachments": {},
   "cell_type": "markdown",
   "metadata": {},
   "source": [
    "Los residuos se puede conseguir mediante el metodo `resid`. Se busca que estos sean distribuidos como una normal"
   ]
  },
  {
   "cell_type": "code",
   "execution_count": 14,
   "metadata": {},
   "outputs": [
    {
     "data": {
      "text/plain": [
       "<Figure size 600x500 with 0 Axes>"
      ]
     },
     "metadata": {},
     "output_type": "display_data"
    },
    {
     "data": {
      "image/png": "[encoded data removed]",
      "text/plain": [
       "<Figure size 500x500 with 1 Axes>"
      ]
     },
     "metadata": {},
     "output_type": "display_data"
    }
   ],
   "source": [
    "fig = plt.figure(figsize=(6,5))\n",
    "\n",
    "fig = sns.displot(results.resid, kind=\"kde\")\n",
    "\n",
    "plt.tight_layout()\n",
    "plt.savefig(\"./figures/mpg-price-resid.pdf\")\n",
    "plt.show()"
   ]
  },
  {
   "attachments": {},
   "cell_type": "markdown",
   "metadata": {},
   "source": [
    "### Modelo lineal multivariado"
   ]
  },
  {
   "cell_type": "code",
   "execution_count": 15,
   "metadata": {},
   "outputs": [
    {
     "data": {
      "text/html": [
       "<div>\n",
       "<style scoped>\n",
       "    .dataframe tbody tr th:only-of-type {\n",
       "        vertical-align: middle;\n",
       "    }\n",
       "\n",
       "    .dataframe tbody tr th {\n",
       "        vertical-align: top;\n",
       "    }\n",
       "\n",
       "    .dataframe thead th {\n",
       "        text-align: right;\n",
       "    }\n",
       "</style>\n",
       "<table border=\"1\" class=\"dataframe\">\n",
       "  <thead>\n",
       "    <tr style=\"text-align: right;\">\n",
       "      <th></th>\n",
       "      <th>make</th>\n",
       "      <th>price</th>\n",
       "      <th>mpg</th>\n",
       "      <th>rep78</th>\n",
       "      <th>headroom</th>\n",
       "      <th>trunk</th>\n",
       "      <th>weight</th>\n",
       "      <th>length</th>\n",
       "      <th>turn</th>\n",
       "      <th>displacement</th>\n",
       "      <th>gear_ratio</th>\n",
       "      <th>foreign</th>\n",
       "      <th>lnprice</th>\n",
       "    </tr>\n",
       "  </thead>\n",
       "  <tbody>\n",
       "    <tr>\n",
       "      <th>0</th>\n",
       "      <td>AMC Concord</td>\n",
       "      <td>4099</td>\n",
       "      <td>22</td>\n",
       "      <td>3.0</td>\n",
       "      <td>2.5</td>\n",
       "      <td>11</td>\n",
       "      <td>2930</td>\n",
       "      <td>186</td>\n",
       "      <td>40</td>\n",
       "      <td>121</td>\n",
       "      <td>3.58</td>\n",
       "      <td>Domestic</td>\n",
       "      <td>8.318499</td>\n",
       "    </tr>\n",
       "    <tr>\n",
       "      <th>1</th>\n",
       "      <td>AMC Pacer</td>\n",
       "      <td>4749</td>\n",
       "      <td>17</td>\n",
       "      <td>3.0</td>\n",
       "      <td>3.0</td>\n",
       "      <td>11</td>\n",
       "      <td>3350</td>\n",
       "      <td>173</td>\n",
       "      <td>40</td>\n",
       "      <td>258</td>\n",
       "      <td>2.53</td>\n",
       "      <td>Domestic</td>\n",
       "      <td>8.465690</td>\n",
       "    </tr>\n",
       "    <tr>\n",
       "      <th>2</th>\n",
       "      <td>AMC Spirit</td>\n",
       "      <td>3799</td>\n",
       "      <td>22</td>\n",
       "      <td>NaN</td>\n",
       "      <td>3.0</td>\n",
       "      <td>12</td>\n",
       "      <td>2640</td>\n",
       "      <td>168</td>\n",
       "      <td>35</td>\n",
       "      <td>121</td>\n",
       "      <td>3.08</td>\n",
       "      <td>Domestic</td>\n",
       "      <td>8.242494</td>\n",
       "    </tr>\n",
       "    <tr>\n",
       "      <th>3</th>\n",
       "      <td>Buick Century</td>\n",
       "      <td>4816</td>\n",
       "      <td>20</td>\n",
       "      <td>3.0</td>\n",
       "      <td>4.5</td>\n",
       "      <td>16</td>\n",
       "      <td>3250</td>\n",
       "      <td>196</td>\n",
       "      <td>40</td>\n",
       "      <td>196</td>\n",
       "      <td>2.93</td>\n",
       "      <td>Domestic</td>\n",
       "      <td>8.479699</td>\n",
       "    </tr>\n",
       "    <tr>\n",
       "      <th>4</th>\n",
       "      <td>Buick Electra</td>\n",
       "      <td>7827</td>\n",
       "      <td>15</td>\n",
       "      <td>4.0</td>\n",
       "      <td>4.0</td>\n",
       "      <td>20</td>\n",
       "      <td>4080</td>\n",
       "      <td>222</td>\n",
       "      <td>43</td>\n",
       "      <td>350</td>\n",
       "      <td>2.41</td>\n",
       "      <td>Domestic</td>\n",
       "      <td>8.965335</td>\n",
       "    </tr>\n",
       "  </tbody>\n",
       "</table>\n",
       "</div>"
      ],
      "text/plain": [
       "            make  price  mpg  rep78  headroom  trunk  weight  length  turn  \\\n",
       "0    AMC Concord   4099   22    3.0       2.5     11    2930     186    40   \n",
       "1      AMC Pacer   4749   17    3.0       3.0     11    3350     173    40   \n",
       "2     AMC Spirit   3799   22    NaN       3.0     12    2640     168    35   \n",
       "3  Buick Century   4816   20    3.0       4.5     16    3250     196    40   \n",
       "4  Buick Electra   7827   15    4.0       4.0     20    4080     222    43   \n",
       "\n",
       "   displacement  gear_ratio   foreign   lnprice  \n",
       "0           121        3.58  Domestic  8.318499  \n",
       "1           258        2.53  Domestic  8.465690  \n",
       "2           121        3.08  Domestic  8.242494  \n",
       "3           196        2.93  Domestic  8.479699  \n",
       "4           350        2.41  Domestic  8.965335  "
      ]
     },
     "execution_count": 15,
     "metadata": {},
     "output_type": "execute_result"
    }
   ],
   "source": [
    "dta = sm.datasets.webuse(\"auto\")\n",
    "\n",
    "dta[\"lnprice\"] = np.log(dta[\"price\"])\n",
    "dta.head()"
   ]
  },
  {
   "cell_type": "code",
   "execution_count": 16,
   "metadata": {},
   "outputs": [
    {
     "data": {
      "text/plain": [
       "0    8.318499\n",
       "1    8.465690\n",
       "2    8.242494\n",
       "3    8.479699\n",
       "4    8.965335\n",
       "Name: lnprice, dtype: float32"
      ]
     },
     "execution_count": 16,
     "metadata": {},
     "output_type": "execute_result"
    }
   ],
   "source": [
    "# Set\n",
    "X = dta[[\"weight\", \"headroom\"]]\n",
    "X = sm.add_constant(X)\n",
    "\n",
    "y = dta[\"lnprice\"]\n",
    "y[0:5]"
   ]
  },
  {
   "cell_type": "code",
   "execution_count": 17,
   "metadata": {},
   "outputs": [
    {
     "name": "stdout",
     "output_type": "stream",
     "text": [
      "                            OLS Regression Results                            \n",
      "==============================================================================\n",
      "Dep. Variable:                lnprice   R-squared:                       0.322\n",
      "Model:                            OLS   Adj. R-squared:                  0.303\n",
      "Method:                 Least Squares   F-statistic:                     16.86\n",
      "Date:                Sun, 01 Jan 2023   Prob (F-statistic):           1.02e-06\n",
      "Time:                        20:28:07   Log-Likelihood:                -20.837\n",
      "No. Observations:                  74   AIC:                             47.67\n",
      "Df Residuals:                      71   BIC:                             54.59\n",
      "Df Model:                           2                                         \n",
      "Covariance Type:            nonrobust                                         \n",
      "==============================================================================\n",
      "                 coef    std err          t      P>|t|      [0.025      0.975]\n",
      "------------------------------------------------------------------------------\n",
      "const          7.9460      0.170     46.752      0.000       7.607       8.285\n",
      "weight         0.0003   5.63e-05      5.698      0.000       0.000       0.000\n",
      "headroom      -0.0916      0.052     -1.771      0.081      -0.195       0.012\n",
      "==============================================================================\n",
      "Omnibus:                        6.209   Durbin-Watson:                   1.303\n",
      "Prob(Omnibus):                  0.045   Jarque-Bera (JB):                5.991\n",
      "Skew:                           0.641   Prob(JB):                       0.0500\n",
      "Kurtosis:                       2.453   Cond. No.                     1.40e+04\n",
      "==============================================================================\n",
      "\n",
      "Notes:\n",
      "[1] Standard Errors assume that the covariance matrix of the errors is correctly specified.\n",
      "[2] The condition number is large, 1.4e+04. This might indicate that there are\n",
      "strong multicollinearity or other numerical problems.\n"
     ]
    }
   ],
   "source": [
    "model = sm.OLS(y, X)\n",
    "results = model.fit()\n",
    "\n",
    "print(results.summary())"
   ]
  },
  {
   "cell_type": "code",
   "execution_count": 18,
   "metadata": {},
   "outputs": [
    {
     "name": "stdout",
     "output_type": "stream",
     "text": [
      "R2 ajustado:  0.303\n",
      "AIC:  47.674\n",
      "BIC:  54.586\n"
     ]
    }
   ],
   "source": [
    "print(\"R2 ajustado: \", np.round(results.rsquared_adj, 3))\n",
    "print(\"AIC: \", np.round(results.aic, 3))\n",
    "print(\"BIC: \", np.round(results.bic, 3))"
   ]
  },
  {
   "attachments": {},
   "cell_type": "markdown",
   "metadata": {},
   "source": [
    "Los estadisticos de `R2-ajustado`, `AIC` y el `BIC` nos permiten entender si la inclusion de una variable es valiosa o no. En ese sentido, a la estimacion previa le incluiremos la variable `displacement`"
   ]
  },
  {
   "cell_type": "code",
   "execution_count": 19,
   "metadata": {},
   "outputs": [
    {
     "name": "stdout",
     "output_type": "stream",
     "text": [
      "                            OLS Regression Results                            \n",
      "==============================================================================\n",
      "Dep. Variable:                lnprice   R-squared:                       0.322\n",
      "Model:                            OLS   Adj. R-squared:                  0.293\n",
      "Method:                 Least Squares   F-statistic:                     11.10\n",
      "Date:                Sun, 01 Jan 2023   Prob (F-statistic):           4.80e-06\n",
      "Time:                        20:28:07   Log-Likelihood:                -20.821\n",
      "No. Observations:                  74   AIC:                             49.64\n",
      "Df Residuals:                      70   BIC:                             58.86\n",
      "Df Model:                           3                                         \n",
      "Covariance Type:            nonrobust                                         \n",
      "================================================================================\n",
      "                   coef    std err          t      P>|t|      [0.025      0.975]\n",
      "--------------------------------------------------------------------------------\n",
      "const            7.9676      0.211     37.766      0.000       7.547       8.388\n",
      "weight           0.0003      0.000      2.701      0.009    7.95e-05       0.001\n",
      "headroom        -0.0926      0.052     -1.767      0.082      -0.197       0.012\n",
      "displacement     0.0002      0.001      0.176      0.861      -0.002       0.002\n",
      "==============================================================================\n",
      "Omnibus:                        6.213   Durbin-Watson:                   1.303\n",
      "Prob(Omnibus):                  0.045   Jarque-Bera (JB):                6.092\n",
      "Skew:                           0.653   Prob(JB):                       0.0475\n",
      "Kurtosis:                       2.480   Cond. No.                     1.73e+04\n",
      "==============================================================================\n",
      "\n",
      "Notes:\n",
      "[1] Standard Errors assume that the covariance matrix of the errors is correctly specified.\n",
      "[2] The condition number is large, 1.73e+04. This might indicate that there are\n",
      "strong multicollinearity or other numerical problems.\n"
     ]
    }
   ],
   "source": [
    "X = dta[[\"weight\", \"headroom\", \"displacement\"]]\n",
    "X = sm.add_constant(X)\n",
    "\n",
    "y = dta[\"lnprice\"]\n",
    "\n",
    "# Modelo\n",
    "model = sm.OLS(y, X)\n",
    "results = model.fit()\n",
    "\n",
    "print(results.summary())"
   ]
  },
  {
   "cell_type": "code",
   "execution_count": 20,
   "metadata": {},
   "outputs": [
    {
     "name": "stdout",
     "output_type": "stream",
     "text": [
      "R2 ajustado:  0.293\n",
      "AIC:  49.641\n",
      "BIC:  58.857\n"
     ]
    }
   ],
   "source": [
    "print(\"R2 ajustado: \", np.round(results.rsquared_adj, 3))\n",
    "print(\"AIC: \", np.round(results.aic, 3))\n",
    "print(\"BIC: \", np.round(results.bic, 3))"
   ]
  },
  {
   "attachments": {},
   "cell_type": "markdown",
   "metadata": {},
   "source": [
    "Pese a que los criterios de informacion aun parecen mostrar que en terminos de comparativa entre complejidad del modelo y ganancia, aun seria importante la inclusion de la variable `displacement`, el `R2-ajustado` se reduce si la incluimos"
   ]
  },
  {
   "attachments": {},
   "cell_type": "markdown",
   "metadata": {},
   "source": [
    "### Testeo de hipotesis"
   ]
  },
  {
   "cell_type": "code",
   "execution_count": 21,
   "metadata": {},
   "outputs": [
    {
     "name": "stdout",
     "output_type": "stream",
     "text": [
      "                            OLS Regression Results                            \n",
      "==============================================================================\n",
      "Dep. Variable:                lnprice   R-squared:                       0.322\n",
      "Model:                            OLS   Adj. R-squared:                  0.303\n",
      "Method:                 Least Squares   F-statistic:                     16.86\n",
      "Date:                Sun, 01 Jan 2023   Prob (F-statistic):           1.02e-06\n",
      "Time:                        20:28:07   Log-Likelihood:                -20.837\n",
      "No. Observations:                  74   AIC:                             47.67\n",
      "Df Residuals:                      71   BIC:                             54.59\n",
      "Df Model:                           2                                         \n",
      "Covariance Type:            nonrobust                                         \n",
      "==============================================================================\n",
      "                 coef    std err          t      P>|t|      [0.025      0.975]\n",
      "------------------------------------------------------------------------------\n",
      "const          7.9460      0.170     46.752      0.000       7.607       8.285\n",
      "weight         0.0003   5.63e-05      5.698      0.000       0.000       0.000\n",
      "headroom      -0.0916      0.052     -1.771      0.081      -0.195       0.012\n",
      "==============================================================================\n",
      "Omnibus:                        6.209   Durbin-Watson:                   1.303\n",
      "Prob(Omnibus):                  0.045   Jarque-Bera (JB):                5.991\n",
      "Skew:                           0.641   Prob(JB):                       0.0500\n",
      "Kurtosis:                       2.453   Cond. No.                     1.40e+04\n",
      "==============================================================================\n",
      "\n",
      "Notes:\n",
      "[1] Standard Errors assume that the covariance matrix of the errors is correctly specified.\n",
      "[2] The condition number is large, 1.4e+04. This might indicate that there are\n",
      "strong multicollinearity or other numerical problems.\n"
     ]
    }
   ],
   "source": [
    "X = dta[[\"weight\", \"headroom\"]]\n",
    "X = sm.add_constant(X)\n",
    "\n",
    "y = dta[\"lnprice\"]\n",
    "\n",
    "# Modelo\n",
    "model = sm.OLS(y, X)\n",
    "results = model.fit()\n",
    "\n",
    "print(results.summary())"
   ]
  },
  {
   "cell_type": "code",
   "execution_count": 22,
   "metadata": {},
   "outputs": [
    {
     "name": "stdout",
     "output_type": "stream",
     "text": [
      "[0. 0. 1.]\n",
      "                             Test for Constraints                             \n",
      "==============================================================================\n",
      "                 coef    std err          t      P>|t|      [0.025      0.975]\n",
      "------------------------------------------------------------------------------\n",
      "c0            -0.0916      0.052     -1.771      0.081      -0.195       0.012\n",
      "==============================================================================\n"
     ]
    }
   ],
   "source": [
    "r = np.zeros_like(results.params)\n",
    "\n",
    "# Testing headroom (3) == 0\n",
    "r[2:] = [1]\n",
    "print(r)\n",
    "\n",
    "T_test = results.t_test(r)\n",
    "print(T_test)"
   ]
  },
  {
   "cell_type": "code",
   "execution_count": 23,
   "metadata": {},
   "outputs": [
    {
     "name": "stdout",
     "output_type": "stream",
     "text": [
      "[ 1. -1.  0.]\n",
      "                             Test for Constraints                             \n",
      "==============================================================================\n",
      "                 coef    std err          t      P>|t|      [0.025      0.975]\n",
      "------------------------------------------------------------------------------\n",
      "c0             7.9457      0.170     46.742      0.000       7.607       8.285\n",
      "==============================================================================\n"
     ]
    }
   ],
   "source": [
    "R = np.zeros_like(results.params)\n",
    "\n",
    "# Testing const (1) == weight (2) == 0\n",
    "R[:2] = [1, -1]\n",
    "print(R)\n",
    "\n",
    "T_test = results.t_test(R)\n",
    "print(T_test)"
   ]
  },
  {
   "cell_type": "code",
   "execution_count": 24,
   "metadata": {},
   "outputs": [
    {
     "name": "stdout",
     "output_type": "stream",
     "text": [
      "[[1 0 0]\n",
      " [0 0 1]]\n",
      "                             Test for Constraints                             \n",
      "==============================================================================\n",
      "                 coef    std err          t      P>|t|      [0.025      0.975]\n",
      "------------------------------------------------------------------------------\n",
      "c0             7.9460      0.170     46.752      0.000       7.607       8.285\n",
      "c1            -0.0916      0.052     -1.771      0.081      -0.195       0.012\n",
      "==============================================================================\n"
     ]
    }
   ],
   "source": [
    "R = np.array([\n",
    "    [1, 0, 0],\n",
    "    [0, 0, 1]\n",
    "])\n",
    "\n",
    "# Testing const (1) == 0, headroom (3) == 0\n",
    "print(R)\n",
    "\n",
    "T_test = results.t_test(R)\n",
    "print(T_test)"
   ]
  },
  {
   "attachments": {},
   "cell_type": "markdown",
   "metadata": {},
   "source": [
    "### Referencias:\n",
    "* https://www.statsmodels.org/stable/api.html\n",
    "* https://www.statsmodels.org/dev/datasets/index.html\n",
    "* https://www.statsmodels.org/stable/examples/notebooks/generated/ols.html"
   ]
  }
 ],
 "metadata": {
  "kernelspec": {
   "display_name": "base",
   "language": "python",
   "name": "python3"
  },
  "language_info": {
   "codemirror_mode": {
    "name": "ipython",
    "version": 3
   },
   "file_extension": ".py",
   "mimetype": "text/x-python",
   "name": "python",
   "nbconvert_exporter": "python",
   "pygments_lexer": "ipython3",
   "version": "3.9.13"
  },
  "orig_nbformat": 4,
  "vscode": {
   "interpreter": {
    "hash": "a077222d77dfe082b8f1dd562ad70e458ac2ab76993a0b248ab0476e32e9e8dd"
   }
  }
 },
 "nbformat": 4,
 "nbformat_minor": 2
}
