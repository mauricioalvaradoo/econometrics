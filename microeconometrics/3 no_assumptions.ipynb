{
 "cells": [
  {
   "attachments": {},
   "cell_type": "markdown",
   "metadata": {},
   "source": [
    "## Modelo de regresion lineal sin los supuestos clasicos\n",
    "Debido a que los supuestos en muchos casos suelen ser muy específicos, existen casos en los que se encuentra que no se cumplen con estos supuestos. Por ello, es importante saber identificarlos y encontrar una solucion a los siguientes:\n",
    "1. Heterocedasticidad: varianza cambiante en el tiempo (supuesto 3)\n",
    "2. Autocorrelacion: correlacion con rezagos (supuesto 3)\n",
    "3. Endogeneidad en los regresores: correlacion de un regresor con el error (supuesto 2)"
   ]
  },
  {
   "cell_type": "code",
   "execution_count": 1,
   "metadata": {},
   "outputs": [],
   "source": [
    "import pandas as pd\n",
    "import numpy as np\n",
    "import matplotlib.pyplot as plt\n",
    "\n",
    "import statsmodels.api as sm\n",
    "\n",
    "# Heterocedasticidad\n",
    "from statsmodels.stats.diagnostic import het_breuschpagan, het_white\n",
    "from scipy.linalg import toeplitz\n",
    "\n",
    "# Autocorrelacion\n",
    "from statsmodels.graphics.tsaplots import plot_acf, plot_pacf\n",
    "from statsmodels.stats.diagnostic import acorr_breusch_godfrey\n",
    "from statsmodels.stats.stattools import durbin_watson\n",
    "\n",
    "# Variables instrumentales\n",
    "from statsmodels.sandbox.regression.gmm import IV2SLS\n",
    "\n",
    "import warnings\n",
    "warnings.simplefilter(\"ignore\")"
   ]
  },
  {
   "attachments": {},
   "cell_type": "markdown",
   "metadata": {},
   "source": [
    "### Heterocedasticidad\n",
    "Se usara la base de datos \"US Census Bureau\", un censo realizado en EE. UU. para recoger informacion sobre factores socioeconomicos. La endogena es la `cantidad de personas en situacion de pobreza` y las exogenas son la `edad`, `porcentaje con colegio`, y `tasa de disponibilidad de propietarios de viviendas`"
   ]
  },
  {
   "cell_type": "code",
   "execution_count": 2,
   "metadata": {},
   "outputs": [
    {
     "data": {
      "text/html": [
       "<div>\n",
       "<style scoped>\n",
       "    .dataframe tbody tr th:only-of-type {\n",
       "        vertical-align: middle;\n",
       "    }\n",
       "\n",
       "    .dataframe tbody tr th {\n",
       "        vertical-align: top;\n",
       "    }\n",
       "\n",
       "    .dataframe thead th {\n",
       "        text-align: right;\n",
       "    }\n",
       "</style>\n",
       "<table border=\"1\" class=\"dataframe\">\n",
       "  <thead>\n",
       "    <tr style=\"text-align: right;\">\n",
       "      <th></th>\n",
       "      <th>County</th>\n",
       "      <th>poverty</th>\n",
       "      <th>age</th>\n",
       "      <th>vacancy</th>\n",
       "      <th>educ</th>\n",
       "    </tr>\n",
       "  </thead>\n",
       "  <tbody>\n",
       "    <tr>\n",
       "      <th>0</th>\n",
       "      <td>Autauga, Alabama</td>\n",
       "      <td>14.7</td>\n",
       "      <td>38.2</td>\n",
       "      <td>1.4</td>\n",
       "      <td>26.6</td>\n",
       "    </tr>\n",
       "    <tr>\n",
       "      <th>1</th>\n",
       "      <td>Baldwin, Alabama</td>\n",
       "      <td>10.5</td>\n",
       "      <td>43.0</td>\n",
       "      <td>3.3</td>\n",
       "      <td>31.9</td>\n",
       "    </tr>\n",
       "    <tr>\n",
       "      <th>2</th>\n",
       "      <td>Barbour, Alabama</td>\n",
       "      <td>27.5</td>\n",
       "      <td>40.4</td>\n",
       "      <td>3.8</td>\n",
       "      <td>11.6</td>\n",
       "    </tr>\n",
       "    <tr>\n",
       "      <th>3</th>\n",
       "      <td>Bibb, Alabama</td>\n",
       "      <td>18.4</td>\n",
       "      <td>40.9</td>\n",
       "      <td>1.5</td>\n",
       "      <td>10.4</td>\n",
       "    </tr>\n",
       "    <tr>\n",
       "      <th>4</th>\n",
       "      <td>Blount, Alabama</td>\n",
       "      <td>14.2</td>\n",
       "      <td>40.7</td>\n",
       "      <td>0.7</td>\n",
       "      <td>13.1</td>\n",
       "    </tr>\n",
       "  </tbody>\n",
       "</table>\n",
       "</div>"
      ],
      "text/plain": [
       "             County  poverty   age  vacancy  educ\n",
       "0  Autauga, Alabama     14.7  38.2      1.4  26.6\n",
       "1  Baldwin, Alabama     10.5  43.0      3.3  31.9\n",
       "2  Barbour, Alabama     27.5  40.4      3.8  11.6\n",
       "3     Bibb, Alabama     18.4  40.9      1.5  10.4\n",
       "4   Blount, Alabama     14.2  40.7      0.7  13.1"
      ]
     },
     "execution_count": 2,
     "metadata": {},
     "output_type": "execute_result"
    }
   ],
   "source": [
    "url = \"https://gist.githubusercontent.com/sachinsdate/0b8ebc2b26afb67a1e83e752c69e1a25/raw/43b\\\n",
    "568aa2e29af519720a4a63c83d49b0529d05d/us_census_bureau_acs_2015_2019_subset.csv\"\n",
    "\n",
    "df = pd.read_csv(url)\n",
    "df.to_csv(\"./data/us_census.csv\")\n",
    "\n",
    "df.rename(\n",
    "    {\"Percent_Households_Below_Poverty_Level\": \"poverty\",\n",
    "    \"Median_Age\": \"age\",\n",
    "    \"Homeowner_Vacancy_Rate\": \"vacancy\",\n",
    "    \"Percent_Pop_25_And_Over_With_College_Or_Higher_Educ\": \"educ\"},\n",
    "    axis=1, inplace=True\n",
    ")\n",
    "\n",
    "df = df.dropna()\n",
    "\n",
    "df.head()"
   ]
  },
  {
   "cell_type": "code",
   "execution_count": 3,
   "metadata": {},
   "outputs": [
    {
     "name": "stdout",
     "output_type": "stream",
     "text": [
      "                                 OLS Regression Results                                \n",
      "=======================================================================================\n",
      "Dep. Variable:                poverty   R-squared (uncentered):                   0.782\n",
      "Model:                            OLS   Adj. R-squared (uncentered):              0.782\n",
      "Method:                 Least Squares   F-statistic:                              3850.\n",
      "Date:                Sun, 01 Jan 2023   Prob (F-statistic):                        0.00\n",
      "Time:                        20:28:30   Log-Likelihood:                         -11327.\n",
      "No. Observations:                3219   AIC:                                  2.266e+04\n",
      "Df Residuals:                    3216   BIC:                                  2.268e+04\n",
      "Df Model:                           3                                                  \n",
      "Covariance Type:            nonrobust                                                  \n",
      "==============================================================================\n",
      "                 coef    std err          t      P>|t|      [0.025      0.975]\n",
      "------------------------------------------------------------------------------\n",
      "age            0.3979      0.010     41.720      0.000       0.379       0.417\n",
      "vacancy        0.8733      0.101      8.683      0.000       0.676       1.070\n",
      "educ          -0.1385      0.014     -9.910      0.000      -0.166      -0.111\n",
      "==============================================================================\n",
      "Omnibus:                     1303.968   Durbin-Watson:                   0.960\n",
      "Prob(Omnibus):                  0.000   Jarque-Bera (JB):             6358.130\n",
      "Skew:                           1.907   Prob(JB):                         0.00\n",
      "Kurtosis:                       8.732   Cond. No.                         33.1\n",
      "==============================================================================\n",
      "\n",
      "Notes:\n",
      "[1] R² is computed without centering (uncentered) since the model does not contain a constant.\n",
      "[2] Standard Errors assume that the covariance matrix of the errors is correctly specified.\n"
     ]
    }
   ],
   "source": [
    "X = df[[\"age\", \"vacancy\", \"educ\"]]\n",
    "y = df[\"poverty\"]\n",
    "\n",
    "model = sm.OLS(y, X)\n",
    "results = model.fit()\n",
    "\n",
    "store_params_ols = results.params\n",
    "store_covar_ols = results.normalized_cov_params\n",
    "\n",
    "print(results.summary())"
   ]
  },
  {
   "attachments": {},
   "cell_type": "markdown",
   "metadata": {},
   "source": [
    "Se puede definir la existencia de heterocedasticidad mediante lo siguiente:\n",
    "1. Analisis grafico de los residuos\n",
    "2. Test de White\n",
    "3. Test de Breusch-Pagan"
   ]
  },
  {
   "cell_type": "code",
   "execution_count": 4,
   "metadata": {},
   "outputs": [
    {
     "data": {
      "image/png": "[encoded data removed]",
      "text/plain": [
       "<Figure size 800x400 with 1 Axes>"
      ]
     },
     "metadata": {},
     "output_type": "display_data"
    }
   ],
   "source": [
    "# Test 1\n",
    "y_hat = results.predict(X)\n",
    "residuos = results.resid\n",
    "\n",
    "plt.figure(figsize=(8, 4))\n",
    "plt.scatter(y_hat, residuos)\n",
    "\n",
    "plt.title(\"Analisis grafico de los residuos\", fontsize=14)\n",
    "plt.xlabel(\"Nivel de pobreza estimado\")\n",
    "plt.ylabel(\"Residuo\")\n",
    "\n",
    "plt.show()"
   ]
  },
  {
   "cell_type": "code",
   "execution_count": 5,
   "metadata": {},
   "outputs": [
    {
     "name": "stdout",
     "output_type": "stream",
     "text": [
      "El estadistico es 375.847 y el p-value es 0.0\n"
     ]
    }
   ],
   "source": [
    "# Test 3\n",
    "residuos = results.resid\n",
    "\n",
    "test = het_breuschpagan(residuos, results.model.exog)\n",
    "test = np.round(test, 3)\n",
    "\n",
    "# H0: homocedasticidad en los errores\n",
    "# H1: heterocedasticiadad en los erroes\n",
    "\n",
    "print(f\"El estadistico es {test[0]} y el p-value es {test[1]}\")"
   ]
  },
  {
   "attachments": {},
   "cell_type": "markdown",
   "metadata": {},
   "source": [
    "Para solucionar el problema de heterocedasticidad se puede estimar por `Minimos Cuadrados Generalizados`"
   ]
  },
  {
   "cell_type": "code",
   "execution_count": 6,
   "metadata": {},
   "outputs": [],
   "source": [
    "residuos = results.resid\n",
    "\n",
    "eX = residuos[:-1].reset_index(drop=True)\n",
    "eY = residuos[1:].reset_index(drop=True)\n",
    "\n",
    "residuos_fit = sm.OLS(eY, eX).fit()\n",
    "rho = residuos_fit.params[0]\n",
    "\n",
    "order = toeplitz(np.arange(3219))\n",
    "sigma = rho**order"
   ]
  },
  {
   "cell_type": "code",
   "execution_count": 7,
   "metadata": {},
   "outputs": [
    {
     "name": "stdout",
     "output_type": "stream",
     "text": [
      "                                 GLS Regression Results                                \n",
      "=======================================================================================\n",
      "Dep. Variable:                poverty   R-squared (uncentered):                   0.516\n",
      "Model:                            GLS   Adj. R-squared (uncentered):              0.516\n",
      "Method:                 Least Squares   F-statistic:                              1145.\n",
      "Date:                Sun, 01 Jan 2023   Prob (F-statistic):                        0.00\n",
      "Time:                        20:28:34   Log-Likelihood:                         -10768.\n",
      "No. Observations:                3219   AIC:                                  2.154e+04\n",
      "Df Residuals:                    3216   BIC:                                  2.156e+04\n",
      "Df Model:                           3                                                  \n",
      "Covariance Type:            nonrobust                                                  \n",
      "==============================================================================\n",
      "                 coef    std err          t      P>|t|      [0.025      0.975]\n",
      "------------------------------------------------------------------------------\n",
      "age            0.3656      0.009     41.249      0.000       0.348       0.383\n",
      "vacancy        0.3439      0.078      4.413      0.000       0.191       0.497\n",
      "educ          -0.0981      0.011     -8.737      0.000      -0.120      -0.076\n",
      "==============================================================================\n",
      "Omnibus:                      562.615   Durbin-Watson:                   2.217\n",
      "Prob(Omnibus):                  0.000   Jarque-Bera (JB):             1318.866\n",
      "Skew:                           0.984   Prob(JB):                    4.09e-287\n",
      "Kurtosis:                       5.441   Cond. No.                         15.1\n",
      "==============================================================================\n",
      "\n",
      "Notes:\n",
      "[1] R² is computed without centering (uncentered) since the model does not contain a constant.\n",
      "[2] Standard Errors assume that the covariance matrix of the errors is correctly specified.\n"
     ]
    }
   ],
   "source": [
    "model = sm.GLS(y, X, sigma=sigma)\n",
    "results = model.fit()\n",
    "\n",
    "store_params_gls = results.params\n",
    "store_covar_gls = results.normalized_cov_params\n",
    "\n",
    "print(results.summary())"
   ]
  },
  {
   "attachments": {},
   "cell_type": "markdown",
   "metadata": {},
   "source": [
    "Comparativa de los parametros:"
   ]
  },
  {
   "cell_type": "code",
   "execution_count": 8,
   "metadata": {},
   "outputs": [
    {
     "data": {
      "text/html": [
       "<div>\n",
       "<style scoped>\n",
       "    .dataframe tbody tr th:only-of-type {\n",
       "        vertical-align: middle;\n",
       "    }\n",
       "\n",
       "    .dataframe tbody tr th {\n",
       "        vertical-align: top;\n",
       "    }\n",
       "\n",
       "    .dataframe thead th {\n",
       "        text-align: right;\n",
       "    }\n",
       "</style>\n",
       "<table border=\"1\" class=\"dataframe\">\n",
       "  <thead>\n",
       "    <tr style=\"text-align: right;\">\n",
       "      <th></th>\n",
       "      <th>OLS</th>\n",
       "      <th>GLS</th>\n",
       "    </tr>\n",
       "  </thead>\n",
       "  <tbody>\n",
       "    <tr>\n",
       "      <th>age</th>\n",
       "      <td>0.397883</td>\n",
       "      <td>0.365572</td>\n",
       "    </tr>\n",
       "    <tr>\n",
       "      <th>vacancy</th>\n",
       "      <td>0.873277</td>\n",
       "      <td>0.343937</td>\n",
       "    </tr>\n",
       "    <tr>\n",
       "      <th>educ</th>\n",
       "      <td>-0.138533</td>\n",
       "      <td>-0.098078</td>\n",
       "    </tr>\n",
       "  </tbody>\n",
       "</table>\n",
       "</div>"
      ],
      "text/plain": [
       "              OLS       GLS\n",
       "age      0.397883  0.365572\n",
       "vacancy  0.873277  0.343937\n",
       "educ    -0.138533 -0.098078"
      ]
     },
     "execution_count": 8,
     "metadata": {},
     "output_type": "execute_result"
    }
   ],
   "source": [
    "params = pd.DataFrame(\n",
    "    data = {\n",
    "        \"OLS\": store_params_ols,\n",
    "        \"GLS\": store_params_gls\n",
    "    }\n",
    ")\n",
    "\n",
    "params"
   ]
  },
  {
   "attachments": {},
   "cell_type": "markdown",
   "metadata": {},
   "source": [
    "Comparativa de las matrices de covarianzas de los errores"
   ]
  },
  {
   "cell_type": "code",
   "execution_count": 9,
   "metadata": {},
   "outputs": [
    {
     "name": "stdout",
     "output_type": "stream",
     "text": [
      "Covarianza de errores de OLS\n",
      "              age   vacancy      educ\n",
      "age      0.000001 -0.000008 -0.000002\n",
      "vacancy -0.000008  0.000152  0.000001\n",
      "educ    -0.000002  0.000001  0.000003\n",
      "\n",
      "Covarianza de errores de por GLS\n",
      "                  age   vacancy          educ\n",
      "age      1.215634e-06 -0.000005 -9.532662e-07\n",
      "vacancy -5.116471e-06  0.000094  1.168863e-06\n",
      "educ    -9.532662e-07  0.000001  1.950414e-06\n"
     ]
    }
   ],
   "source": [
    "print(\"Covarianza de errores de OLS\")\n",
    "print(store_covar_ols)\n",
    "print(\"\")\n",
    "print(\"Covarianza de errores de por GLS\")\n",
    "print(store_covar_gls)"
   ]
  },
  {
   "attachments": {},
   "cell_type": "markdown",
   "metadata": {},
   "source": [
    "### Autocorrelacion\n",
    "Se usara las series macroeconomicas de los Estados Unidos"
   ]
  },
  {
   "cell_type": "code",
   "execution_count": 10,
   "metadata": {},
   "outputs": [
    {
     "data": {
      "text/html": [
       "<div>\n",
       "<style scoped>\n",
       "    .dataframe tbody tr th:only-of-type {\n",
       "        vertical-align: middle;\n",
       "    }\n",
       "\n",
       "    .dataframe tbody tr th {\n",
       "        vertical-align: top;\n",
       "    }\n",
       "\n",
       "    .dataframe thead th {\n",
       "        text-align: right;\n",
       "    }\n",
       "</style>\n",
       "<table border=\"1\" class=\"dataframe\">\n",
       "  <thead>\n",
       "    <tr style=\"text-align: right;\">\n",
       "      <th></th>\n",
       "      <th>year</th>\n",
       "      <th>quarter</th>\n",
       "      <th>realgdp</th>\n",
       "      <th>realcons</th>\n",
       "      <th>realinv</th>\n",
       "      <th>realgovt</th>\n",
       "      <th>realdpi</th>\n",
       "      <th>cpi</th>\n",
       "      <th>m1</th>\n",
       "      <th>tbilrate</th>\n",
       "      <th>unemp</th>\n",
       "      <th>pop</th>\n",
       "      <th>infl</th>\n",
       "      <th>realint</th>\n",
       "    </tr>\n",
       "  </thead>\n",
       "  <tbody>\n",
       "    <tr>\n",
       "      <th>0</th>\n",
       "      <td>1959.0</td>\n",
       "      <td>1.0</td>\n",
       "      <td>2710.349</td>\n",
       "      <td>1707.4</td>\n",
       "      <td>286.898</td>\n",
       "      <td>470.045</td>\n",
       "      <td>1886.9</td>\n",
       "      <td>28.98</td>\n",
       "      <td>139.7</td>\n",
       "      <td>2.82</td>\n",
       "      <td>5.8</td>\n",
       "      <td>177.146</td>\n",
       "      <td>0.00</td>\n",
       "      <td>0.00</td>\n",
       "    </tr>\n",
       "    <tr>\n",
       "      <th>1</th>\n",
       "      <td>1959.0</td>\n",
       "      <td>2.0</td>\n",
       "      <td>2778.801</td>\n",
       "      <td>1733.7</td>\n",
       "      <td>310.859</td>\n",
       "      <td>481.301</td>\n",
       "      <td>1919.7</td>\n",
       "      <td>29.15</td>\n",
       "      <td>141.7</td>\n",
       "      <td>3.08</td>\n",
       "      <td>5.1</td>\n",
       "      <td>177.830</td>\n",
       "      <td>2.34</td>\n",
       "      <td>0.74</td>\n",
       "    </tr>\n",
       "    <tr>\n",
       "      <th>2</th>\n",
       "      <td>1959.0</td>\n",
       "      <td>3.0</td>\n",
       "      <td>2775.488</td>\n",
       "      <td>1751.8</td>\n",
       "      <td>289.226</td>\n",
       "      <td>491.260</td>\n",
       "      <td>1916.4</td>\n",
       "      <td>29.35</td>\n",
       "      <td>140.5</td>\n",
       "      <td>3.82</td>\n",
       "      <td>5.3</td>\n",
       "      <td>178.657</td>\n",
       "      <td>2.74</td>\n",
       "      <td>1.09</td>\n",
       "    </tr>\n",
       "    <tr>\n",
       "      <th>3</th>\n",
       "      <td>1959.0</td>\n",
       "      <td>4.0</td>\n",
       "      <td>2785.204</td>\n",
       "      <td>1753.7</td>\n",
       "      <td>299.356</td>\n",
       "      <td>484.052</td>\n",
       "      <td>1931.3</td>\n",
       "      <td>29.37</td>\n",
       "      <td>140.0</td>\n",
       "      <td>4.33</td>\n",
       "      <td>5.6</td>\n",
       "      <td>179.386</td>\n",
       "      <td>0.27</td>\n",
       "      <td>4.06</td>\n",
       "    </tr>\n",
       "    <tr>\n",
       "      <th>4</th>\n",
       "      <td>1960.0</td>\n",
       "      <td>1.0</td>\n",
       "      <td>2847.699</td>\n",
       "      <td>1770.5</td>\n",
       "      <td>331.722</td>\n",
       "      <td>462.199</td>\n",
       "      <td>1955.5</td>\n",
       "      <td>29.54</td>\n",
       "      <td>139.6</td>\n",
       "      <td>3.50</td>\n",
       "      <td>5.2</td>\n",
       "      <td>180.007</td>\n",
       "      <td>2.31</td>\n",
       "      <td>1.19</td>\n",
       "    </tr>\n",
       "  </tbody>\n",
       "</table>\n",
       "</div>"
      ],
      "text/plain": [
       "     year  quarter   realgdp  realcons  realinv  realgovt  realdpi    cpi  \\\n",
       "0  1959.0      1.0  2710.349    1707.4  286.898   470.045   1886.9  28.98   \n",
       "1  1959.0      2.0  2778.801    1733.7  310.859   481.301   1919.7  29.15   \n",
       "2  1959.0      3.0  2775.488    1751.8  289.226   491.260   1916.4  29.35   \n",
       "3  1959.0      4.0  2785.204    1753.7  299.356   484.052   1931.3  29.37   \n",
       "4  1960.0      1.0  2847.699    1770.5  331.722   462.199   1955.5  29.54   \n",
       "\n",
       "      m1  tbilrate  unemp      pop  infl  realint  \n",
       "0  139.7      2.82    5.8  177.146  0.00     0.00  \n",
       "1  141.7      3.08    5.1  177.830  2.34     0.74  \n",
       "2  140.5      3.82    5.3  178.657  2.74     1.09  \n",
       "3  140.0      4.33    5.6  179.386  0.27     4.06  \n",
       "4  139.6      3.50    5.2  180.007  2.31     1.19  "
      ]
     },
     "execution_count": 10,
     "metadata": {},
     "output_type": "execute_result"
    }
   ],
   "source": [
    "dta = sm.datasets.macrodata.load_pandas()\n",
    "dta.data.to_csv(\"./data/macrodata.csv\")\n",
    "\n",
    "dta.data.head()"
   ]
  },
  {
   "cell_type": "code",
   "execution_count": 11,
   "metadata": {},
   "outputs": [],
   "source": [
    "X = dta.data[[\"realgdp\"]]; y = dta.data[\"cpi\"]\n",
    "X = np.log(X); y = np.log(y)\n",
    "\n",
    "X = X.diff(periods=4)*100; X = X.dropna()\n",
    "y = y.diff(periods=4)*100; y = y.dropna()\n",
    "\n",
    "# Añadir constante\n",
    "X = sm.add_constant(X)"
   ]
  },
  {
   "cell_type": "code",
   "execution_count": 12,
   "metadata": {},
   "outputs": [
    {
     "name": "stdout",
     "output_type": "stream",
     "text": [
      "                            OLS Regression Results                            \n",
      "==============================================================================\n",
      "Dep. Variable:                    cpi   R-squared:                       0.036\n",
      "Model:                            OLS   Adj. R-squared:                  0.031\n",
      "Method:                 Least Squares   F-statistic:                     7.333\n",
      "Date:                Sun, 01 Jan 2023   Prob (F-statistic):            0.00737\n",
      "Time:                        20:28:34   Log-Likelihood:                -480.93\n",
      "No. Observations:                 199   AIC:                             965.9\n",
      "Df Residuals:                     197   BIC:                             972.4\n",
      "Df Model:                           1                                         \n",
      "Covariance Type:            nonrobust                                         \n",
      "==============================================================================\n",
      "                 coef    std err          t      P>|t|      [0.025      0.975]\n",
      "------------------------------------------------------------------------------\n",
      "const          4.7062      0.324     14.526      0.000       4.067       5.345\n",
      "realgdp       -0.2263      0.084     -2.708      0.007      -0.391      -0.061\n",
      "==============================================================================\n",
      "Omnibus:                       35.588   Durbin-Watson:                   0.097\n",
      "Prob(Omnibus):                  0.000   Jarque-Bera (JB):               51.830\n",
      "Skew:                           1.029   Prob(JB):                     5.56e-12\n",
      "Kurtosis:                       4.421   Cond. No.                         6.78\n",
      "==============================================================================\n",
      "\n",
      "Notes:\n",
      "[1] Standard Errors assume that the covariance matrix of the errors is correctly specified.\n"
     ]
    }
   ],
   "source": [
    "model = sm.OLS(y, X)\n",
    "results = model.fit()\n",
    "\n",
    "print(results.summary())"
   ]
  },
  {
   "attachments": {},
   "cell_type": "markdown",
   "metadata": {},
   "source": [
    "Se puede definir la existencia de autocorrelacion mediante lo siguiente:\n",
    "1. ACF, PACF\n",
    "2. Test de Durbin-Watson\n",
    "3. Test de Breusch-Pagan"
   ]
  },
  {
   "cell_type": "code",
   "execution_count": 13,
   "metadata": {},
   "outputs": [
    {
     "data": {
      "image/png": "[encoded data removed]",
      "text/plain": [
       "<Figure size 1000x300 with 2 Axes>"
      ]
     },
     "metadata": {},
     "output_type": "display_data"
    }
   ],
   "source": [
    "# Test 1\n",
    "fig, ax = plt.subplots(1, 2, figsize=(10,3))\n",
    "\n",
    "plot_acf(y, ax=ax[0], lags=10, title=\"ACF a la inflacion\", alpha=0.05)\n",
    "plot_pacf(y, ax=ax[1], lags=10, title=\"PACF al inflacion\", alpha=0.05)\n",
    "\n",
    "ax[0].set_ylim([-0.3, 1.2])\n",
    "ax[1].set_ylim([-0.3, 1.2])\n",
    "\n",
    "plt.subplots_adjust()\n",
    "plt.savefig(\"./figures/acf_pacf_inflac.pdf\")\n",
    "plt.show()"
   ]
  },
  {
   "cell_type": "code",
   "execution_count": 14,
   "metadata": {},
   "outputs": [
    {
     "data": {
      "text/plain": [
       "0.097"
      ]
     },
     "execution_count": 14,
     "metadata": {},
     "output_type": "execute_result"
    }
   ],
   "source": [
    "# Test 2\n",
    "np.round(durbin_watson(results.resid), 3) # Autocorrelacion positiva"
   ]
  },
  {
   "cell_type": "code",
   "execution_count": 15,
   "metadata": {},
   "outputs": [
    {
     "data": {
      "text/html": [
       "<div>\n",
       "<style scoped>\n",
       "    .dataframe tbody tr th:only-of-type {\n",
       "        vertical-align: middle;\n",
       "    }\n",
       "\n",
       "    .dataframe tbody tr th {\n",
       "        vertical-align: top;\n",
       "    }\n",
       "\n",
       "    .dataframe thead th {\n",
       "        text-align: right;\n",
       "    }\n",
       "</style>\n",
       "<table border=\"1\" class=\"dataframe\">\n",
       "  <thead>\n",
       "    <tr style=\"text-align: right;\">\n",
       "      <th></th>\n",
       "      <th>LM</th>\n",
       "      <th>pvalue</th>\n",
       "      <th>pv&lt;0.1</th>\n",
       "      <th>pv&lt;0.05</th>\n",
       "      <th>pv&lt;0.01</th>\n",
       "    </tr>\n",
       "    <tr>\n",
       "      <th>lags</th>\n",
       "      <th></th>\n",
       "      <th></th>\n",
       "      <th></th>\n",
       "      <th></th>\n",
       "      <th></th>\n",
       "    </tr>\n",
       "  </thead>\n",
       "  <tbody>\n",
       "    <tr>\n",
       "      <th>1</th>\n",
       "      <td>182.526</td>\n",
       "      <td>0.0</td>\n",
       "      <td>True</td>\n",
       "      <td>True</td>\n",
       "      <td>True</td>\n",
       "    </tr>\n",
       "    <tr>\n",
       "      <th>2</th>\n",
       "      <td>182.526</td>\n",
       "      <td>0.0</td>\n",
       "      <td>True</td>\n",
       "      <td>True</td>\n",
       "      <td>True</td>\n",
       "    </tr>\n",
       "    <tr>\n",
       "      <th>3</th>\n",
       "      <td>182.530</td>\n",
       "      <td>0.0</td>\n",
       "      <td>True</td>\n",
       "      <td>True</td>\n",
       "      <td>True</td>\n",
       "    </tr>\n",
       "    <tr>\n",
       "      <th>4</th>\n",
       "      <td>182.869</td>\n",
       "      <td>0.0</td>\n",
       "      <td>True</td>\n",
       "      <td>True</td>\n",
       "      <td>True</td>\n",
       "    </tr>\n",
       "    <tr>\n",
       "      <th>5</th>\n",
       "      <td>184.772</td>\n",
       "      <td>0.0</td>\n",
       "      <td>True</td>\n",
       "      <td>True</td>\n",
       "      <td>True</td>\n",
       "    </tr>\n",
       "  </tbody>\n",
       "</table>\n",
       "</div>"
      ],
      "text/plain": [
       "           LM  pvalue  pv<0.1  pv<0.05  pv<0.01\n",
       "lags                                           \n",
       "1     182.526     0.0    True     True     True\n",
       "2     182.526     0.0    True     True     True\n",
       "3     182.530     0.0    True     True     True\n",
       "4     182.869     0.0    True     True     True\n",
       "5     184.772     0.0    True     True     True"
      ]
     },
     "execution_count": 15,
     "metadata": {},
     "output_type": "execute_result"
    }
   ],
   "source": [
    "# Test 3\n",
    "def test_breusch_godfrey(model_results, maxlags):\n",
    "    list = []\n",
    "\n",
    "    for i in range(1, maxlags+1):\n",
    "        values = acorr_breusch_godfrey(model_results, nlags=i)\n",
    "        list.append([i, values[0], values[1]])\n",
    "    \n",
    "    table = pd.DataFrame(list, columns=[\"lags\", \"LM\", \"pvalue\"])\n",
    "    table.set_index(\"lags\", inplace=True)\n",
    "    \n",
    "    # P-value < pvalue \n",
    "    table[f\"pv<0.1\"] = table[\"pvalue\"]<0.1\n",
    "    table[f\"pv<0.05\"] = table[\"pvalue\"]<0.05\n",
    "    table[f\"pv<0.01\"] = table[\"pvalue\"]<0.01\n",
    "\n",
    "    # Rounding\n",
    "    table[\"LM\"] = np.round(table[\"LM\"], 3)\n",
    "    table[\"pvalue\"] = np.round(table[\"pvalue\"], 3)\n",
    "\n",
    "    return table\n",
    "\n",
    "\n",
    "# La hipotesis nula es de no autocorrelacion\n",
    "# Se rechaza la no autocorrelacion hasta 5 rezagos. \n",
    "test_breusch_godfrey(results, maxlags=5)"
   ]
  },
  {
   "attachments": {},
   "cell_type": "markdown",
   "metadata": {},
   "source": [
    "Inclusión de un rezago"
   ]
  },
  {
   "cell_type": "code",
   "execution_count": 16,
   "metadata": {},
   "outputs": [],
   "source": [
    "X = dta.data[[\"realgdp\"]]; y = dta.data[\"cpi\"]\n",
    "X = np.log(X); y = np.log(y)\n",
    "\n",
    "X = X.diff(periods=4)*100 \n",
    "y = y.diff(periods=4)*100\n",
    "\n",
    "X[\"cpi(-1)\"] = y.shift(1) # Añadiendo un rezago\n",
    "X = X.dropna(); y = y.dropna()\n",
    "\n",
    "# Añadir constante\n",
    "X = sm.add_constant(X)\n",
    "\n",
    "y = y[1:]"
   ]
  },
  {
   "cell_type": "code",
   "execution_count": 17,
   "metadata": {},
   "outputs": [
    {
     "name": "stdout",
     "output_type": "stream",
     "text": [
      "                            OLS Regression Results                            \n",
      "==============================================================================\n",
      "Dep. Variable:                    cpi   R-squared:                       0.929\n",
      "Model:                            OLS   Adj. R-squared:                  0.928\n",
      "Method:                 Least Squares   F-statistic:                     1271.\n",
      "Date:                Sun, 01 Jan 2023   Prob (F-statistic):          1.41e-112\n",
      "Time:                        20:28:35   Log-Likelihood:                -220.83\n",
      "No. Observations:                 198   AIC:                             447.7\n",
      "Df Residuals:                     195   BIC:                             457.5\n",
      "Df Model:                           2                                         \n",
      "Covariance Type:            nonrobust                                         \n",
      "==============================================================================\n",
      "                 coef    std err          t      P>|t|      [0.025      0.975]\n",
      "------------------------------------------------------------------------------\n",
      "const         -0.3262      0.135     -2.420      0.016      -0.592      -0.060\n",
      "realgdp        0.1133      0.024      4.755      0.000       0.066       0.160\n",
      "cpi(-1)        0.9910      0.020     49.457      0.000       0.951       1.031\n",
      "==============================================================================\n",
      "Omnibus:                       20.338   Durbin-Watson:                   1.851\n",
      "Prob(Omnibus):                  0.000   Jarque-Bera (JB):               78.274\n",
      "Skew:                          -0.159   Prob(JB):                     1.01e-17\n",
      "Kurtosis:                       6.064   Cond. No.                         14.6\n",
      "==============================================================================\n",
      "\n",
      "Notes:\n",
      "[1] Standard Errors assume that the covariance matrix of the errors is correctly specified.\n"
     ]
    }
   ],
   "source": [
    "model = sm.OLS(y, X)\n",
    "results = model.fit()\n",
    "\n",
    "print(results.summary())"
   ]
  },
  {
   "cell_type": "code",
   "execution_count": 18,
   "metadata": {},
   "outputs": [
    {
     "name": "stdout",
     "output_type": "stream",
     "text": [
      "Parece solucionar un poco la autocorrelacion en los dos primeros rezagos\n"
     ]
    },
    {
     "data": {
      "text/html": [
       "<div>\n",
       "<style scoped>\n",
       "    .dataframe tbody tr th:only-of-type {\n",
       "        vertical-align: middle;\n",
       "    }\n",
       "\n",
       "    .dataframe tbody tr th {\n",
       "        vertical-align: top;\n",
       "    }\n",
       "\n",
       "    .dataframe thead th {\n",
       "        text-align: right;\n",
       "    }\n",
       "</style>\n",
       "<table border=\"1\" class=\"dataframe\">\n",
       "  <thead>\n",
       "    <tr style=\"text-align: right;\">\n",
       "      <th></th>\n",
       "      <th>LM</th>\n",
       "      <th>pvalue</th>\n",
       "      <th>pv&lt;0.1</th>\n",
       "      <th>pv&lt;0.05</th>\n",
       "      <th>pv&lt;0.01</th>\n",
       "    </tr>\n",
       "    <tr>\n",
       "      <th>lags</th>\n",
       "      <th></th>\n",
       "      <th></th>\n",
       "      <th></th>\n",
       "      <th></th>\n",
       "      <th></th>\n",
       "    </tr>\n",
       "  </thead>\n",
       "  <tbody>\n",
       "    <tr>\n",
       "      <th>1</th>\n",
       "      <td>0.563</td>\n",
       "      <td>0.453</td>\n",
       "      <td>False</td>\n",
       "      <td>False</td>\n",
       "      <td>False</td>\n",
       "    </tr>\n",
       "    <tr>\n",
       "      <th>2</th>\n",
       "      <td>3.988</td>\n",
       "      <td>0.136</td>\n",
       "      <td>False</td>\n",
       "      <td>False</td>\n",
       "      <td>False</td>\n",
       "    </tr>\n",
       "    <tr>\n",
       "      <th>3</th>\n",
       "      <td>12.778</td>\n",
       "      <td>0.005</td>\n",
       "      <td>True</td>\n",
       "      <td>True</td>\n",
       "      <td>True</td>\n",
       "    </tr>\n",
       "  </tbody>\n",
       "</table>\n",
       "</div>"
      ],
      "text/plain": [
       "          LM  pvalue  pv<0.1  pv<0.05  pv<0.01\n",
       "lags                                          \n",
       "1      0.563   0.453   False    False    False\n",
       "2      3.988   0.136   False    False    False\n",
       "3     12.778   0.005    True     True     True"
      ]
     },
     "execution_count": 18,
     "metadata": {},
     "output_type": "execute_result"
    }
   ],
   "source": [
    "print(\"Parece solucionar un poco la autocorrelacion en los dos primeros rezagos\")\n",
    "test_breusch_godfrey(results, maxlags=3)"
   ]
  },
  {
   "attachments": {},
   "cell_type": "markdown",
   "metadata": {},
   "source": [
    "### Endogeneidad\n",
    "Para el analisis de endogeneidad se usara la base de datos `smoke` del libro de Wooldridge. Esta base de datos contiene informacion sobre los efectos del tabaquismo sobre los ingresos anuales"
   ]
  },
  {
   "cell_type": "code",
   "execution_count": 19,
   "metadata": {},
   "outputs": [
    {
     "data": {
      "text/html": [
       "<div>\n",
       "<style scoped>\n",
       "    .dataframe tbody tr th:only-of-type {\n",
       "        vertical-align: middle;\n",
       "    }\n",
       "\n",
       "    .dataframe tbody tr th {\n",
       "        vertical-align: top;\n",
       "    }\n",
       "\n",
       "    .dataframe thead th {\n",
       "        text-align: right;\n",
       "    }\n",
       "</style>\n",
       "<table border=\"1\" class=\"dataframe\">\n",
       "  <thead>\n",
       "    <tr style=\"text-align: right;\">\n",
       "      <th></th>\n",
       "      <th>educ</th>\n",
       "      <th>cigpric</th>\n",
       "      <th>white</th>\n",
       "      <th>age</th>\n",
       "      <th>income</th>\n",
       "      <th>cigs</th>\n",
       "      <th>restaurn</th>\n",
       "      <th>lincome</th>\n",
       "      <th>agesq</th>\n",
       "      <th>lcigpric</th>\n",
       "    </tr>\n",
       "  </thead>\n",
       "  <tbody>\n",
       "    <tr>\n",
       "      <th>0</th>\n",
       "      <td>16.0</td>\n",
       "      <td>60.506001</td>\n",
       "      <td>1</td>\n",
       "      <td>46</td>\n",
       "      <td>20000</td>\n",
       "      <td>0</td>\n",
       "      <td>0</td>\n",
       "      <td>9.903487</td>\n",
       "      <td>2116</td>\n",
       "      <td>4.102743</td>\n",
       "    </tr>\n",
       "    <tr>\n",
       "      <th>1</th>\n",
       "      <td>16.0</td>\n",
       "      <td>57.882999</td>\n",
       "      <td>1</td>\n",
       "      <td>40</td>\n",
       "      <td>30000</td>\n",
       "      <td>0</td>\n",
       "      <td>0</td>\n",
       "      <td>10.308952</td>\n",
       "      <td>1600</td>\n",
       "      <td>4.058424</td>\n",
       "    </tr>\n",
       "    <tr>\n",
       "      <th>2</th>\n",
       "      <td>12.0</td>\n",
       "      <td>57.664001</td>\n",
       "      <td>1</td>\n",
       "      <td>58</td>\n",
       "      <td>30000</td>\n",
       "      <td>3</td>\n",
       "      <td>0</td>\n",
       "      <td>10.308952</td>\n",
       "      <td>3364</td>\n",
       "      <td>4.054633</td>\n",
       "    </tr>\n",
       "    <tr>\n",
       "      <th>3</th>\n",
       "      <td>13.5</td>\n",
       "      <td>57.882999</td>\n",
       "      <td>1</td>\n",
       "      <td>30</td>\n",
       "      <td>20000</td>\n",
       "      <td>0</td>\n",
       "      <td>0</td>\n",
       "      <td>9.903487</td>\n",
       "      <td>900</td>\n",
       "      <td>4.058424</td>\n",
       "    </tr>\n",
       "    <tr>\n",
       "      <th>4</th>\n",
       "      <td>10.0</td>\n",
       "      <td>58.320000</td>\n",
       "      <td>1</td>\n",
       "      <td>17</td>\n",
       "      <td>20000</td>\n",
       "      <td>0</td>\n",
       "      <td>0</td>\n",
       "      <td>9.903487</td>\n",
       "      <td>289</td>\n",
       "      <td>4.065945</td>\n",
       "    </tr>\n",
       "  </tbody>\n",
       "</table>\n",
       "</div>"
      ],
      "text/plain": [
       "   educ    cigpric  white  age  income  cigs  restaurn    lincome  agesq  \\\n",
       "0  16.0  60.506001      1   46   20000     0         0   9.903487   2116   \n",
       "1  16.0  57.882999      1   40   30000     0         0  10.308952   1600   \n",
       "2  12.0  57.664001      1   58   30000     3         0  10.308952   3364   \n",
       "3  13.5  57.882999      1   30   20000     0         0   9.903487    900   \n",
       "4  10.0  58.320000      1   17   20000     0         0   9.903487    289   \n",
       "\n",
       "   lcigpric  \n",
       "0  4.102743  \n",
       "1  4.058424  \n",
       "2  4.054633  \n",
       "3  4.058424  \n",
       "4  4.065945  "
      ]
     },
     "execution_count": 19,
     "metadata": {},
     "output_type": "execute_result"
    }
   ],
   "source": [
    "dta = pd.read_stata(\"./data/smoke.dta\")\n",
    "dta.head()"
   ]
  },
  {
   "cell_type": "code",
   "execution_count": 20,
   "metadata": {},
   "outputs": [],
   "source": [
    "X = dta[[\"cigs\", \"educ\", \"age\", \"agesq\"]]\n",
    "X = sm.add_constant(X)\n",
    "y = dta[\"lincome\"]"
   ]
  },
  {
   "cell_type": "code",
   "execution_count": 21,
   "metadata": {},
   "outputs": [
    {
     "name": "stdout",
     "output_type": "stream",
     "text": [
      "                            OLS Regression Results                            \n",
      "==============================================================================\n",
      "Dep. Variable:                lincome   R-squared:                       0.165\n",
      "Model:                            OLS   Adj. R-squared:                  0.161\n",
      "Method:                 Least Squares   F-statistic:                     39.61\n",
      "Date:                Sun, 01 Jan 2023   Prob (F-statistic):           2.68e-30\n",
      "Time:                        20:28:35   Log-Likelihood:                -798.50\n",
      "No. Observations:                 807   AIC:                             1607.\n",
      "Df Residuals:                     802   BIC:                             1630.\n",
      "Df Model:                           4                                         \n",
      "Covariance Type:            nonrobust                                         \n",
      "==============================================================================\n",
      "                 coef    std err          t      P>|t|      [0.025      0.975]\n",
      "------------------------------------------------------------------------------\n",
      "const          7.7954      0.170     45.741      0.000       7.461       8.130\n",
      "cigs           0.0017      0.002      1.010      0.313      -0.002       0.005\n",
      "educ           0.0604      0.008      7.642      0.000       0.045       0.076\n",
      "age            0.0577      0.008      7.548      0.000       0.043       0.073\n",
      "agesq         -0.0006   8.34e-05     -7.563      0.000      -0.001      -0.000\n",
      "==============================================================================\n",
      "Omnibus:                      264.025   Durbin-Watson:                   1.908\n",
      "Prob(Omnibus):                  0.000   Jarque-Bera (JB):              960.743\n",
      "Skew:                          -1.531   Prob(JB):                    2.38e-209\n",
      "Kurtosis:                       7.381   Cond. No.                     1.88e+04\n",
      "==============================================================================\n",
      "\n",
      "Notes:\n",
      "[1] Standard Errors assume that the covariance matrix of the errors is correctly specified.\n",
      "[2] The condition number is large, 1.88e+04. This might indicate that there are\n",
      "strong multicollinearity or other numerical problems.\n"
     ]
    }
   ],
   "source": [
    "model = sm.OLS(y, X)\n",
    "results = model.fit()\n",
    "\n",
    "print(results.summary())"
   ]
  },
  {
   "attachments": {},
   "cell_type": "markdown",
   "metadata": {},
   "source": [
    "Se encuentra que los resultados dan como signo positvo al consumo de cigarros sobre los ingresos. Por el contrario, se espera que haya una relacion negativa. Posiblemente estemos dejando de lado la simultaneidad que tiene el consumo con los precios. Se usara los instrumentos de `cigpric` y `restaurn`"
   ]
  },
  {
   "cell_type": "code",
   "execution_count": 22,
   "metadata": {},
   "outputs": [
    {
     "name": "stdout",
     "output_type": "stream",
     "text": [
      "                            OLS Regression Results                            \n",
      "==============================================================================\n",
      "Dep. Variable:                   cigs   R-squared:                       0.051\n",
      "Model:                            OLS   Adj. R-squared:                  0.045\n",
      "Method:                 Least Squares   F-statistic:                     8.610\n",
      "Date:                Sun, 01 Jan 2023   Prob (F-statistic):           5.87e-08\n",
      "Time:                        20:28:35   Log-Likelihood:                -3237.0\n",
      "No. Observations:                 807   AIC:                             6486.\n",
      "Df Residuals:                     801   BIC:                             6514.\n",
      "Df Model:                           5                                         \n",
      "Covariance Type:            nonrobust                                         \n",
      "==============================================================================\n",
      "                 coef    std err          t      P>|t|      [0.025      0.975]\n",
      "------------------------------------------------------------------------------\n",
      "const         -0.0204      6.861     -0.003      0.998     -13.489      13.448\n",
      "educ          -0.4505      0.162     -2.787      0.005      -0.768      -0.133\n",
      "age            0.8222      0.154      5.328      0.000       0.519       1.125\n",
      "agesq         -0.0096      0.002     -5.710      0.000      -0.013      -0.006\n",
      "cigpric        0.0029      0.101      0.029      0.977      -0.195       0.201\n",
      "restaurn      -2.7509      1.108     -2.482      0.013      -4.926      -0.575\n",
      "==============================================================================\n",
      "Omnibus:                      226.690   Durbin-Watson:                   2.010\n",
      "Prob(Omnibus):                  0.000   Jarque-Bera (JB):              499.686\n",
      "Skew:                           1.543   Prob(JB):                    3.12e-109\n",
      "Kurtosis:                       5.311   Cond. No.                     3.69e+04\n",
      "==============================================================================\n",
      "\n",
      "Notes:\n",
      "[1] Standard Errors assume that the covariance matrix of the errors is correctly specified.\n",
      "[2] The condition number is large, 3.69e+04. This might indicate that there are\n",
      "strong multicollinearity or other numerical problems.\n"
     ]
    }
   ],
   "source": [
    "X_inst = dta[[\"educ\", \"age\", \"agesq\", \"cigpric\", \"restaurn\"]]\n",
    "X_inst = sm.add_constant(X_inst)\n",
    "y_inst = dta[\"cigs\"]\n",
    "\n",
    "model_inst = sm.OLS(y_inst, X_inst)\n",
    "results_inst = model_inst.fit()\n",
    "\n",
    "print(results_inst.summary())"
   ]
  },
  {
   "cell_type": "code",
   "execution_count": 23,
   "metadata": {},
   "outputs": [
    {
     "data": {
      "text/html": [
       "<div>\n",
       "<style scoped>\n",
       "    .dataframe tbody tr th:only-of-type {\n",
       "        vertical-align: middle;\n",
       "    }\n",
       "\n",
       "    .dataframe tbody tr th {\n",
       "        vertical-align: top;\n",
       "    }\n",
       "\n",
       "    .dataframe thead th {\n",
       "        text-align: right;\n",
       "    }\n",
       "</style>\n",
       "<table border=\"1\" class=\"dataframe\">\n",
       "  <thead>\n",
       "    <tr style=\"text-align: right;\">\n",
       "      <th></th>\n",
       "      <th>educ</th>\n",
       "      <th>cigpric</th>\n",
       "      <th>white</th>\n",
       "      <th>age</th>\n",
       "      <th>income</th>\n",
       "      <th>cigs</th>\n",
       "      <th>restaurn</th>\n",
       "      <th>lincome</th>\n",
       "      <th>agesq</th>\n",
       "      <th>lcigpric</th>\n",
       "      <th>cigs_hat</th>\n",
       "    </tr>\n",
       "  </thead>\n",
       "  <tbody>\n",
       "    <tr>\n",
       "      <th>0</th>\n",
       "      <td>16.0</td>\n",
       "      <td>60.506001</td>\n",
       "      <td>1</td>\n",
       "      <td>46</td>\n",
       "      <td>20000</td>\n",
       "      <td>0</td>\n",
       "      <td>0</td>\n",
       "      <td>9.903487</td>\n",
       "      <td>2116</td>\n",
       "      <td>4.102743</td>\n",
       "      <td>10.484249</td>\n",
       "    </tr>\n",
       "    <tr>\n",
       "      <th>1</th>\n",
       "      <td>16.0</td>\n",
       "      <td>57.882999</td>\n",
       "      <td>1</td>\n",
       "      <td>40</td>\n",
       "      <td>30000</td>\n",
       "      <td>0</td>\n",
       "      <td>0</td>\n",
       "      <td>10.308952</td>\n",
       "      <td>1600</td>\n",
       "      <td>4.058424</td>\n",
       "      <td>10.490481</td>\n",
       "    </tr>\n",
       "    <tr>\n",
       "      <th>2</th>\n",
       "      <td>12.0</td>\n",
       "      <td>57.664001</td>\n",
       "      <td>1</td>\n",
       "      <td>58</td>\n",
       "      <td>30000</td>\n",
       "      <td>3</td>\n",
       "      <td>0</td>\n",
       "      <td>10.308952</td>\n",
       "      <td>3364</td>\n",
       "      <td>4.054633</td>\n",
       "      <td>10.179045</td>\n",
       "    </tr>\n",
       "    <tr>\n",
       "      <th>3</th>\n",
       "      <td>13.5</td>\n",
       "      <td>57.882999</td>\n",
       "      <td>1</td>\n",
       "      <td>30</td>\n",
       "      <td>20000</td>\n",
       "      <td>0</td>\n",
       "      <td>0</td>\n",
       "      <td>9.903487</td>\n",
       "      <td>900</td>\n",
       "      <td>4.058424</td>\n",
       "      <td>10.105997</td>\n",
       "    </tr>\n",
       "    <tr>\n",
       "      <th>4</th>\n",
       "      <td>10.0</td>\n",
       "      <td>58.320000</td>\n",
       "      <td>1</td>\n",
       "      <td>17</td>\n",
       "      <td>20000</td>\n",
       "      <td>0</td>\n",
       "      <td>0</td>\n",
       "      <td>9.903487</td>\n",
       "      <td>289</td>\n",
       "      <td>4.065945</td>\n",
       "      <td>6.853313</td>\n",
       "    </tr>\n",
       "  </tbody>\n",
       "</table>\n",
       "</div>"
      ],
      "text/plain": [
       "   educ    cigpric  white  age  income  cigs  restaurn    lincome  agesq  \\\n",
       "0  16.0  60.506001      1   46   20000     0         0   9.903487   2116   \n",
       "1  16.0  57.882999      1   40   30000     0         0  10.308952   1600   \n",
       "2  12.0  57.664001      1   58   30000     3         0  10.308952   3364   \n",
       "3  13.5  57.882999      1   30   20000     0         0   9.903487    900   \n",
       "4  10.0  58.320000      1   17   20000     0         0   9.903487    289   \n",
       "\n",
       "   lcigpric   cigs_hat  \n",
       "0  4.102743  10.484249  \n",
       "1  4.058424  10.490481  \n",
       "2  4.054633  10.179045  \n",
       "3  4.058424  10.105997  \n",
       "4  4.065945   6.853313  "
      ]
     },
     "execution_count": 23,
     "metadata": {},
     "output_type": "execute_result"
    }
   ],
   "source": [
    "dta[\"cigs_hat\"] = results_inst.predict(X_inst)\n",
    "dta.head()"
   ]
  },
  {
   "cell_type": "code",
   "execution_count": 24,
   "metadata": {},
   "outputs": [
    {
     "name": "stdout",
     "output_type": "stream",
     "text": [
      "                            OLS Regression Results                            \n",
      "==============================================================================\n",
      "Dep. Variable:                lincome   R-squared:                       0.169\n",
      "Model:                            OLS   Adj. R-squared:                  0.164\n",
      "Method:                 Least Squares   F-statistic:                     40.64\n",
      "Date:                Sun, 01 Jan 2023   Prob (F-statistic):           4.92e-31\n",
      "Time:                        20:28:35   Log-Likelihood:                -796.78\n",
      "No. Observations:                 807   AIC:                             1604.\n",
      "Df Residuals:                     802   BIC:                             1627.\n",
      "Df Model:                           4                                         \n",
      "Covariance Type:            nonrobust                                         \n",
      "==============================================================================\n",
      "                 coef    std err          t      P>|t|      [0.025      0.975]\n",
      "------------------------------------------------------------------------------\n",
      "const          7.7813      0.170     45.723      0.000       7.447       8.115\n",
      "cigs_hat      -0.0410      0.019     -2.112      0.035      -0.079      -0.003\n",
      "educ           0.0402      0.012      3.335      0.001       0.017       0.064\n",
      "age            0.0929      0.018      5.260      0.000       0.058       0.128\n",
      "agesq         -0.0010      0.000     -5.120      0.000      -0.001      -0.001\n",
      "==============================================================================\n",
      "Omnibus:                      266.317   Durbin-Watson:                   1.917\n",
      "Prob(Omnibus):                  0.000   Jarque-Bera (JB):              982.043\n",
      "Skew:                          -1.541   Prob(JB):                    5.65e-214\n",
      "Kurtosis:                       7.440   Cond. No.                     1.89e+04\n",
      "==============================================================================\n",
      "\n",
      "Notes:\n",
      "[1] Standard Errors assume that the covariance matrix of the errors is correctly specified.\n",
      "[2] The condition number is large, 1.89e+04. This might indicate that there are\n",
      "strong multicollinearity or other numerical problems.\n"
     ]
    }
   ],
   "source": [
    "X = dta[[\"cigs_hat\", \"educ\", \"age\", \"agesq\"]]\n",
    "X = sm.add_constant(X)\n",
    "y = dta[\"lincome\"]\n",
    "\n",
    "\n",
    "model = sm.OLS(y, X)\n",
    "results = model.fit()\n",
    "\n",
    "print(results.summary())"
   ]
  },
  {
   "attachments": {},
   "cell_type": "markdown",
   "metadata": {},
   "source": [
    "De esta manera se corrige el signo y la endogeneidad. Una forma mas reducida de realizar esta estimacion es mediante `IV2SLS`"
   ]
  },
  {
   "cell_type": "code",
   "execution_count": 25,
   "metadata": {},
   "outputs": [
    {
     "name": "stdout",
     "output_type": "stream",
     "text": [
      "                          IV2SLS Regression Results                           \n",
      "==============================================================================\n",
      "Dep. Variable:                lincome   R-squared:                      -0.464\n",
      "Model:                         IV2SLS   Adj. R-squared:                 -0.471\n",
      "Method:                     Two Stage   F-statistic:                     16.23\n",
      "                        Least Squares   Prob (F-statistic):           8.69e-13\n",
      "Date:                Sun, 01 Jan 2023                                         \n",
      "Time:                        20:28:35                                         \n",
      "No. Observations:                 807                                         \n",
      "Df Residuals:                     802                                         \n",
      "Df Model:                           4                                         \n",
      "==============================================================================\n",
      "                 coef    std err          t      P>|t|      [0.025      0.975]\n",
      "------------------------------------------------------------------------------\n",
      "const          7.9470      0.263     30.266      0.000       7.432       8.462\n",
      "cigs          -0.0403      0.026     -1.566      0.118      -0.091       0.010\n",
      "educ           0.0371      0.016      2.295      0.022       0.005       0.069\n",
      "age            0.0867      0.024      3.621      0.000       0.040       0.134\n",
      "agesq         -0.0010      0.000     -3.568      0.000      -0.002      -0.000\n",
      "==============================================================================\n",
      "Omnibus:                       51.115   Durbin-Watson:                   1.932\n",
      "Prob(Omnibus):                  0.000   Jarque-Bera (JB):              140.245\n",
      "Skew:                          -0.293   Prob(JB):                     3.52e-31\n",
      "Kurtosis:                       4.956   Cond. No.                     1.88e+04\n",
      "==============================================================================\n"
     ]
    }
   ],
   "source": [
    "X = dta[[\"cigs\", \"educ\", \"age\", \"agesq\"]]\n",
    "X = sm.add_constant(X)\n",
    "y = dta[\"lincome\"]\n",
    "instr = dta[[\"educ\", \"age\", \"agesq\", \"cigpric\", \"restaurn\"]]\n",
    "\n",
    "# Modelo\n",
    "model = IV2SLS(y, X, instr)\n",
    "results = model.fit()\n",
    "\n",
    "print(results.summary())"
   ]
  },
  {
   "attachments": {},
   "cell_type": "markdown",
   "metadata": {},
   "source": [
    "### Referencias:\n",
    "* https://www.statsmodels.org/dev/diagnostic.html\n",
    "* https://www.statsmodels.org/stable/generated/statsmodels.regression.linear_model.GLS.html#statsmodels.regression.linear_model.GLS"
   ]
  }
 ],
 "metadata": {
  "kernelspec": {
   "display_name": "base",
   "language": "python",
   "name": "python3"
  },
  "language_info": {
   "codemirror_mode": {
    "name": "ipython",
    "version": 3
   },
   "file_extension": ".py",
   "mimetype": "text/x-python",
   "name": "python",
   "nbconvert_exporter": "python",
   "pygments_lexer": "ipython3",
   "version": "3.9.13"
  },
  "orig_nbformat": 4,
  "vscode": {
   "interpreter": {
    "hash": "a077222d77dfe082b8f1dd562ad70e458ac2ab76993a0b248ab0476e32e9e8dd"
   }
  }
 },
 "nbformat": 4,
 "nbformat_minor": 2
}
